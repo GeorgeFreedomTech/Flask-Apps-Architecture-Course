{
 "cells": [
  {
   "cell_type": "markdown",
   "id": "84a73169",
   "metadata": {},
   "source": [
    "### **Practise I**\n",
    "\n",
    "**Navigation Computer Calibration:**\n",
    "\n",
    "- Create an application and three routes: `/`, `/mission_log`, and `/comms`.\n",
    "- For each route, create a simple HTML page in the `templates` folder.\n",
    "- The pages will be generated using `render_template` and will only contain a simple heading, e.g., \"Mission Log\".\n",
    "- Create a `/system_check` route - using the `random` module, randomly select one of the three pages created above and redirect the user to it using `redirect(url_for(...))`.\n",
    "- Create a `/sos` route that performs an external redirect to a page, for example, the [NASA page about asteroids](https://www.nasa.gov/mission_pages/asteroids/main/index.html)."
   ]
  },
  {
   "cell_type": "code",
   "execution_count": null,
   "id": "08c29c42",
   "metadata": {},
   "outputs": [],
   "source": [
    "from flask import Flask, render_template, redirect, url_for\n",
    "import random\n",
    "\n",
    "app = Flask(__name__)\n",
    "\n",
    "\n",
    "# -------------- CONFIGURATION --------------\n",
    "# ze souboru pomocí \"konstant\"\n",
    "app.config[\"STATIC_FOLDER\"] = \"static\"\n",
    "app.config[\"TEMPLATES_FOLDER\"] = \"templates\"\n",
    "app.config[\"DEBUG\"] = True\n",
    "\n",
    "\n",
    "# -------------- ROUTES --------------\n",
    "@app.route(\"/\")\n",
    "def home():\n",
    "    return render_template(\"home.html\")\n",
    "\n",
    "\n",
    "@app.route(\"/mission_log\")\n",
    "def mission_log():\n",
    "    return render_template(\"mission_log.html\")\n",
    "\n",
    "\n",
    "@app.route(\"/comms\")\n",
    "def comms():\n",
    "    return render_template(\"comms.html\")\n",
    "\n",
    "\n",
    "@app.route(\"/system_check\")\n",
    "def system_check():\n",
    "    return redirect(url_for(random.choice([\"mission_log\", \"comms\", \"home\"])))\n",
    "\n",
    "\n",
    "@app.route(\"/sos\")\n",
    "def sos():\n",
    "    return redirect(\"https://www.nasa.gov/mission_pages/asteroids/main/index.html\")\n",
    "\n",
    "\n",
    "# -------------- STARTING THE APP --------------\n",
    "if __name__ == \"__main__\":\n",
    "    app.run"
   ]
  },
  {
   "cell_type": "code",
   "execution_count": null,
   "id": "13e27600",
   "metadata": {
    "vscode": {
     "languageId": "html"
    }
   },
   "outputs": [],
   "source": [
    "<!-- home.html -->\n",
    "\n",
    "<!DOCTYPE html>\n",
    "<html>\n",
    "    \n",
    "<head>\n",
    "    <meta charset=\"utf-8\" />\n",
    "    <title>Home</title>\n",
    "</head>\n",
    "\n",
    "<body>\n",
    "    <h1>Home page</h1>\n",
    "</body>\n",
    "\n",
    "</html>"
   ]
  },
  {
   "cell_type": "code",
   "execution_count": null,
   "id": "ddcd612f",
   "metadata": {
    "vscode": {
     "languageId": "html"
    }
   },
   "outputs": [],
   "source": [
    "<!-- mission_log.html -->\n",
    "\n",
    "<!DOCTYPE html>\n",
    "<html>\n",
    "    \n",
    "<head>\n",
    "    <meta charset=\"utf-8\" />\n",
    "    <title>Mission Log</title>\n",
    "</head>\n",
    "\n",
    "<body>\n",
    "    <h1>Mission Log page</h1>\n",
    "</body>\n",
    "\n",
    "</html>"
   ]
  },
  {
   "cell_type": "code",
   "execution_count": null,
   "id": "d45b36f5",
   "metadata": {
    "vscode": {
     "languageId": "html"
    }
   },
   "outputs": [],
   "source": [
    "<!-- comms.html -->\n",
    "\n",
    "<!DOCTYPE html>\n",
    "<html>\n",
    "    \n",
    "<head>\n",
    "    <meta charset=\"utf-8\" />\n",
    "    <title>Comms</title>\n",
    "</head>\n",
    "\n",
    "<body>\n",
    "    <h1>Comms page</h1>\n",
    "</body>\n",
    "\n",
    "</html>"
   ]
  },
  {
   "cell_type": "markdown",
   "id": "17187818",
   "metadata": {},
   "source": [
    "### **Practise II**\n",
    "\n",
    "**Processing Visual Data and Documentation:**\n",
    "\n",
    "- On the main route (`/`), create a \"Mission Briefing\" page that displays two images:\n",
    "    1. Your mission's logo from the `static/img` folder.\n",
    "    2. An image of the target asteroid from the internet (link to an external URL).\n",
    "\n",
    "- Create a `/download_flight_plan` route that allows the crew to download the flight plan (any `.pdf` file you place in a `static/docs` folder)."
   ]
  },
  {
   "cell_type": "code",
   "execution_count": null,
   "id": "34f1adc2",
   "metadata": {},
   "outputs": [],
   "source": [
    "from flask import Flask, send_from_directory\n",
    "\n",
    "\n",
    "# -------------- APP & CONFIGURATION --------------\n",
    "app = Flask(__name__, template_folder='templates', static_folder='static')\n",
    "\n",
    "\n",
    "# -------------- ROUTES --------------\n",
    "@app.route(\"/\")\n",
    "def mission_briefing():\n",
    "    return \"\"\"\n",
    "    <h1>Mission Briefing</h1>\n",
    "    <img src=\"static/img/flask.jpeg\" width=\"800px\"/>\n",
    "    <p>Logo</p>\n",
    "    <img src=\"https://upload.wikimedia.org/wikipedia/commons/thumb/7/7c/Asteroid_Itokawa.jpg/800px-Asteroid_Itokawa.jpg\" width=\"800px\"/>\n",
    "    <p>Itokawa</p>\n",
    "    \"\"\"\n",
    "\n",
    "@app.route(\"/download_flight_plan\")\n",
    "def download_flight_plan():\n",
    "    return send_from_directory(\n",
    "        'static/pdf_files', \"my_file.pdf\", as_attachment=False\n",
    "    )\n",
    "# there has to be a file \"my_file.pdf\" in \"static/downloads\" folder\n",
    "\n",
    "# -------------- START APP --------------\n",
    "if __name__ == \"__main__\":\n",
    "    app.run(debug=True)"
   ]
  },
  {
   "cell_type": "markdown",
   "id": "7cc239fc",
   "metadata": {},
   "source": [
    "## **Project (Homework): Information Panel Upgrade**\n",
    "**Mission:** Enhance the information panel from the previous mission with templates and visual data.\n",
    "\n",
    "**Basic application structure:**\n",
    "- my_project/\n",
    "  - my_app.py\n",
    "  - **templates/**\n",
    "  - **static/**\n",
    "\n",
    "1.  **Refactoring:** Move the HTML code from these routes (`/` and `/mission_briefing`) into separate HTML files in the `templates` folder. Modify the functions to use `render_template`.\n",
    "\n",
    "2.  **Panel Expansion:** Create a new route `/target_asteroid` with information (e.g., diameter, mass, speed..) about a selected asteroid - choose your own from this list: https://en.wikipedia.org/wiki/List_of_exceptional_asteroids.\n",
    "    - Put the code into an HTML file in the `templates` folder.\n",
    "    - Add an image of the asteroid (the image should be located in `static/img`)."
   ]
  },
  {
   "cell_type": "code",
   "execution_count": null,
   "id": "1eb8c3eb",
   "metadata": {},
   "outputs": [],
   "source": [
    "from flask import Flask, render_template\n",
    "\n",
    "app = Flask(__name__)\n",
    "\n",
    "\n",
    "# -------------- CONFIGURATION --------------\n",
    "app.config[\"STATIC_FOLDER\"] = \"static\"\n",
    "app.config[\"TEMPLATES_FOLDER\"] = \"templates\"\n",
    "app.config[\"DEBUG\"] = True\n",
    "\n",
    "\n",
    "# -------------- ROUTES --------------\n",
    "@app.route(\"/\")\n",
    "def homepage():\n",
    "    return render_template(\"homepage.html\")\n",
    "\n",
    "@app.route(\"/mission_briefing\")\n",
    "def mission_briefing():\n",
    "    return render_template(\"mission_briefing.html\")\n",
    "\n",
    "@app.route(\"/target_asteroid\")\n",
    "def target_asteroid():\n",
    "    return render_template(\"target_asteroid.html\")\n",
    "\n",
    "@app.route(\"/target_asteroid/<string:asteroid_name>\")\n",
    "def target_asteroid_details(asteroid_name):\n",
    "    return f\"\"\"\n",
    "        <h1>Target asteroid: {asteroid_name}</h1>\n",
    "    \"\"\"\n",
    "\n",
    "@app.route(\"/crew_members/<int:id>\")\n",
    "def crew_members_details(id):\n",
    "    my_crew = [\n",
    "        {\n",
    "            \"id\": 1,\n",
    "            \"name\": \"Dave Fisher\",\n",
    "            \"specialization\": \"AI Engineer\",\n",
    "            \"status\": \"Active\"\n",
    "        },\n",
    "        {\n",
    "            \"id\": 2,\n",
    "            \"name\": \"Izael Alexander\",\n",
    "            \"specialization\": \"Rocket Scientist\",\n",
    "            \"status\": \"Active\"\n",
    "        },\n",
    "        {\n",
    "            \"id\": 3,\n",
    "            \"name\": \"Tethra Dyagran\",\n",
    "            \"specialization\": \"Roboticist\",\n",
    "            \"status\": \"Active\"\n",
    "        },\n",
    "        {\n",
    "            \"id\": 4,\n",
    "            \"name\": \"Mura Lan\",\n",
    "            \"specialization\": \"Astronavigator\",\n",
    "            \"status\": \"Active\"\n",
    "        }\n",
    "    ]\n",
    "    for crew_member in my_crew:\n",
    "        if crew_member[\"id\"] == id:\n",
    "            return f\"\"\"\n",
    "                <h1>Crew member {id}</h1>\n",
    "                <p>Name: {crew_member[\"name\"]}</p>\n",
    "                <p>Specialization: {crew_member[\"specialization\"]}</p>\n",
    "                <p>Status: {crew_member[\"status\"]}</p>\n",
    "            \"\"\"\n",
    "    return \"Crew member not found\"\n",
    "\n",
    "\n",
    "# -------------- STARTING THE APP --------------\n",
    "if __name__ == \"__main__\":\n",
    "    app.run()"
   ]
  },
  {
   "cell_type": "code",
   "execution_count": null,
   "id": "a08a8dde",
   "metadata": {
    "vscode": {
     "languageId": "html"
    }
   },
   "outputs": [],
   "source": [
    "<!-- homepage.html -->\n",
    "\n",
    "<h1>Deep Space Exploration Corp.</h1>\n",
    "<p>Welcome to our homepage !</p>\n",
    "<p>Our goal is to mine asteroids from the solar system.</p>"
   ]
  },
  {
   "cell_type": "code",
   "execution_count": null,
   "id": "da17a39e",
   "metadata": {
    "vscode": {
     "languageId": "html"
    }
   },
   "outputs": [],
   "source": [
    "<!-- mission_briefing.html -->\n",
    "\n",
    "<h1>Mission</h1>\n",
    "<p>This is our mission:</p>\n",
    "<p>get resources from chosen asteroids</p>\n",
    "<p>make it profitable</p>\n",
    "<p>expand world's economy</p>"
   ]
  },
  {
   "cell_type": "code",
   "execution_count": null,
   "id": "04ad022c",
   "metadata": {
    "vscode": {
     "languageId": "html"
    }
   },
   "outputs": [],
   "source": [
    "<!-- target_asteroid.html -->\n",
    "\n",
    "<h1>Target asteroid: 230 Athamantis</h1>\n",
    "<p>Mean diameter: 118±2 km</p>\n",
    "<p>Mass: (2.3±1.1)*10**18 kg</p>\n",
    "<p>Mean density: 2.7±1.3 g/cm3</p>\n",
    "<p>Average orbital speed: 19.3 km/s</p>\n",
    "<img src=\"static/img/Athamantis.jpeg\" width=\"800px\"/>  <!-- there has to be a Athamantis.jpeg file in \"/static/img\" folder   -->"
   ]
  },
  {
   "cell_type": "markdown",
   "id": "09a9ce4f",
   "metadata": {},
   "source": [
    "---\n",
    "#### © Jiří Svoboda (George Freedom)\n",
    "- Web: https://GeorgeFreedom.com\n",
    "- LinkedIn: https://www.linkedin.com/in/georgefreedom/\n",
    "- Book me: https://cal.com/georgefreedom"
   ]
  }
 ],
 "metadata": {
  "language_info": {
   "name": "python"
  }
 },
 "nbformat": 4,
 "nbformat_minor": 5
}

{
 "cells": [
  {
   "cell_type": "markdown",
   "id": "adb16d57",
   "metadata": {},
   "source": [
    "### **Practise I**\n",
    "\n",
    "**1. Sending a Command to a Mining Drone**\n",
    "\n",
    "Create a simple form (using WTF-Forms) to send a text command to an autonomous drone.\n",
    "\n",
    "1.  **Create the form** in `forms.py` named `DroneCommandForm`. It will contain:\n",
    "    * `drone_id` (a `StringField`, required, for the drone's identification, e.g., \"DR-7\")\n",
    "    * `command` (a `StringField`, required, for the command itself, e.g., \"SCAN_SECTOR_GAMMA\")\n",
    "    * `submit` (a submit button)\n",
    "\n",
    "2.  **Create a route** `/send_command` that will display an HTML page (e.g., `drone_command.html`) with our form and will handle both methods (`GET` and `POST`).\n",
    "\n",
    "3.  After a successful submission (`validate_on_submit`), the form will return a simple confirmation message, for example:\n",
    "    `f\"Command '{form.command.data}' has been sent to drone '{form.drone_id.data}'.\"`"
   ]
  },
  {
   "cell_type": "code",
   "execution_count": null,
   "id": "6b383118",
   "metadata": {},
   "outputs": [],
   "source": [
    "# configuration.py\n",
    "\n",
    "class Config:\n",
    "    \"\"\"\n",
    "    Set Flask config variables\n",
    "    \"\"\"\n",
    "    # General Config\n",
    "    DEBUG = True\n",
    "    STATIC_FOLDER = 'static'\n",
    "    TEMPLATES_FOLDER = 'templates'\n",
    "    SECRET_KEY = 'my_secret_something' # setting the \"secret key\""
   ]
  },
  {
   "cell_type": "code",
   "execution_count": null,
   "id": "a0495d63",
   "metadata": {},
   "outputs": [],
   "source": [
    "from config.configuration import Config\n",
    "from flask import Flask, render_template\n",
    "from forms import DroneCommandForm # import our form class\n",
    "\n",
    "\n",
    "app = Flask(__name__)\n",
    "\n",
    "app.config.from_object(Config)\n",
    "\n",
    "\n",
    "@app.route(\"/send_command\", methods=[\"GET\", \"POST\"])\n",
    "def send_command():\n",
    "    form = DroneCommandForm()\n",
    "    if form.validate_on_submit():\n",
    "        return f\"Command '{form.command.data}' has been sent to drone '{form.id.data}'.\"\n",
    "    return render_template(\"drone_command.html\", form=form)\n",
    "\n",
    "\n",
    "if __name__ == \"__main__\":\n",
    "    app.run()"
   ]
  },
  {
   "cell_type": "code",
   "execution_count": null,
   "id": "2bf30bd8",
   "metadata": {},
   "outputs": [],
   "source": [
    "# forms.py\n",
    "\n",
    "from flask_wtf import FlaskForm\n",
    "from wtforms import StringField, SubmitField, validators\n",
    "\n",
    "class DroneCommandForm(FlaskForm):\n",
    "    id = StringField(label=\"Dron ID\", validators=[validators.DataRequired()])\n",
    "    command = StringField(label=\"Command\", validators=[validators.DataRequired()])\n",
    "    submit = SubmitField(label=\"Send command\")"
   ]
  },
  {
   "cell_type": "code",
   "execution_count": null,
   "id": "922d5732",
   "metadata": {
    "vscode": {
     "languageId": "html"
    }
   },
   "outputs": [],
   "source": [
    "<!-- drone_command.html -->\n",
    "\n",
    "<form method = \"POST\" action = \"{{ url_for('send_command') }}\">\n",
    "    <p>Drone command form</p>\n",
    "    {{ form.hidden_tag() }} <!-- CSRF token -->\n",
    "    <p>{{ form.id.label }} {{ form.id(size=30) }}</p>\n",
    "    <p>{{ form.command.label }} {{ form.command(size=30) }}</p>\n",
    "    <p>{{ form.submit() }}</p>\n",
    "</form>"
   ]
  },
  {
   "cell_type": "markdown",
   "id": "fb567d5f",
   "metadata": {},
   "source": [
    "### **Practise II**\n",
    "\n",
    "**2. Energy Shield Calibration**\n",
    "\n",
    "Create an interface to change the power level of the station's energy shield.\n",
    "\n",
    "**Data:**\n",
    "At the beginning of your file, create a simple dictionary that represents the current shield settings.\n",
    "```python\n",
    "SHIELD_SETTINGS = {'power_level': 50, 'frequency': 75.5}\n",
    "```\n",
    "\n",
    "1.  **Create a form** `ShieldForm` with one field:\n",
    "    * `new_power_level` (an `IntegerField`, required)\n",
    "    * `submit` (a submit button)\n",
    "\n",
    "2.  **Create a route** `/shield_calibration` (`GET` and `POST`).\n",
    "    * On a `GET` request, it will display a template (e.g., `shield_calibration.html`) that shows the **current** `power_level` from the `SHIELD_SETTINGS` dictionary and also displays the form for changing it.\n",
    "    * On a `POST` request (`validate_on_submit`):\n",
    "        * It updates the `'power_level'` value in the `SHIELD_SETTINGS` dictionary to the value from the form.\n",
    "        * It **redirects** back to the same page (`/shield_calibration`), so we can verify that the power level value has actually changed."
   ]
  },
  {
   "cell_type": "code",
   "execution_count": null,
   "id": "96fcdb87",
   "metadata": {},
   "outputs": [],
   "source": [
    "# configuration.py\n",
    "\n",
    "class Config:\n",
    "    \"\"\"\n",
    "    Set Flask config variables\n",
    "    \"\"\"\n",
    "    # General Config\n",
    "    DEBUG = True\n",
    "    STATIC_FOLDER = 'static'\n",
    "    TEMPLATES_FOLDER = 'templates'\n",
    "    SECRET_KEY = 'my_secret_something' # setting the \"secret key\""
   ]
  },
  {
   "cell_type": "code",
   "execution_count": null,
   "id": "749b026d",
   "metadata": {},
   "outputs": [],
   "source": [
    "from flask import Flask, render_template, redirect, url_for\n",
    "from config.configuration import Config\n",
    "from forms import ShieldForm\n",
    "\n",
    "\n",
    "SHIELD_SETTINGS = {'power_level': 50, 'frequency': 75.5}\n",
    "\n",
    "app = Flask(__name__)\n",
    "\n",
    "app.config.from_object(Config)\n",
    "\n",
    "\n",
    "@app.route(\"/shield_calibration\", methods=[\"GET\", \"POST\"])\n",
    "def shield_calibration():\n",
    "    form = ShieldForm()\n",
    "    if form.validate_on_submit():\n",
    "        SHIELD_SETTINGS['power_level'] = form.new_power_level.data\n",
    "        return redirect(url_for('shield_calibration'))\n",
    "    return render_template('shield_calibration.html', form=form, power_level=SHIELD_SETTINGS['power_level'])    \n",
    "\n",
    "\n",
    "if __name__ == '__main__':\n",
    "    app.run()"
   ]
  },
  {
   "cell_type": "code",
   "execution_count": null,
   "id": "57ed47e7",
   "metadata": {},
   "outputs": [],
   "source": [
    "# forms.py\n",
    "\n",
    "from flask_wtf import FlaskForm\n",
    "from wtforms import IntegerField, SubmitField, validators\n",
    "\n",
    "class ShieldForm(FlaskForm):\n",
    "    new_power_level = IntegerField('Power level', validators=[validators.DataRequired()])\n",
    "    submit = SubmitField('Submit')"
   ]
  },
  {
   "cell_type": "code",
   "execution_count": null,
   "id": "8c4155e7",
   "metadata": {
    "vscode": {
     "languageId": "html"
    }
   },
   "outputs": [],
   "source": [
    "<!-- shield_calibration.html -->\n",
    "\n",
    "<form method = \"POST\" action = \"{{ url_for('shield_calibration') }}\">\n",
    "    <p>Shield calibration form</p>\n",
    "    {{ form.hidden_tag() }} <!-- CSRF token -->\n",
    "    <p>Power level: {{ power_level }}</p>\n",
    "    <p>{{ form.new_power_level.label }} {{ form.new_power_level(size=30) }}</p>\n",
    "    <p>{{ form.submit() }}</p>\n",
    "</form>"
   ]
  },
  {
   "cell_type": "markdown",
   "id": "631714eb",
   "metadata": {},
   "source": [
    "### **Project (Homework): Crew Member Recruitment**\n",
    "\n",
    "**Mission:** As the mission demands grow, new specialists need to be brought on board. Our task is to create an **onboarding form** for Mission Control and connect it to our application.\n",
    "\n",
    "`Basic application structure`:\n",
    "- my_project/\n",
    "  - my_app.py\n",
    "  - routes.py\n",
    "  - **forms.py**\n",
    "  - templates/\n",
    "  - static/\n",
    "  - config/\n",
    "\n",
    "1.  **New Form:**\n",
    "    - Create a new file `forms.py` and in it, create a class, e.g., `NewCrewMemberForm`, which will contain fields for entering a new crew member (i.e., `pilot_name`, `specialization`, etc.).\n",
    "\n",
    "2.  **Route for the Form:**\n",
    "    - Create a new route `/onboarding` that will accept `GET` and `POST` requests and will display and process this recruitment form.\n",
    "\n",
    "3.  **Logic Upgrade:**\n",
    "    - After a successful form submission (`validate_on_submit`), take the data and **add a new member** to our crew.\n",
    "    - Arrange for them to automatically get an `id` that follows on from the `id` of the last added member (if the last record has an `id` value of \"4\", the next record gets \"5\", and the next \"6\" ..) and for the `status` to be set to `pending`.\n",
    "\n",
    "4.  **Navigation Upgrade:**\n",
    "    - Add the `/onboarding` route to the navigation menu.\n",
    "\n",
    "5.  **Output Check:**\n",
    "    - After adding a new member, **redirect** the applicant from the `/onboarding` route to the `/crew_members` page and check the updated crew list."
   ]
  },
  {
   "cell_type": "code",
   "execution_count": null,
   "id": "7d2e369b",
   "metadata": {},
   "outputs": [],
   "source": [
    "# configuration.py\n",
    "\n",
    "class Config:\n",
    "    \"\"\"\n",
    "    Set Flask config variables\n",
    "    \"\"\"\n",
    "    # General Config\n",
    "    DEBUG = True \n",
    "    STATIC_FOLDER = 'static' \n",
    "    TEMPLATES_FOLDER = 'templates' \n",
    "    SECRET_KEY = 'my_secret_something' "
   ]
  },
  {
   "cell_type": "code",
   "execution_count": null,
   "id": "5b08dafa",
   "metadata": {},
   "outputs": [],
   "source": [
    "from flask import Flask\n",
    "from config.configuration import Config \n",
    "from routes import register_routes\n",
    "\n",
    "my_crew = [\n",
    "        {\n",
    "            \"id\": 1,\n",
    "            \"name\": \"Dave Fisher\",\n",
    "            \"specialization\": \"AI Engineer\",\n",
    "            \"status\": \"Active\"\n",
    "        },\n",
    "        {\n",
    "            \"id\": 2,\n",
    "            \"name\": \"Izael Alexander\",\n",
    "            \"specialization\": \"Rocket Scientist\",\n",
    "            \"status\": \"Active\"\n",
    "        },\n",
    "        {\n",
    "            \"id\": 3,\n",
    "            \"name\": \"Tethra Dyagran\",\n",
    "            \"specialization\": \"Roboticist\",\n",
    "            \"status\": \"Active\"\n",
    "        },\n",
    "        {\n",
    "            \"id\": 4,\n",
    "            \"name\": \"Mura Lan\",\n",
    "            \"specialization\": \"Astronavigator\",\n",
    "            \"status\": \"Active\"\n",
    "        }\n",
    "    ]\n",
    "\n",
    "my_asteroid = {\"name\": \"230 Athamantis\",\n",
    "               \"diameter\": \"118±2 km\",\n",
    "               \"mass\": \"(2.3±1.1)*10**18 kg\",\n",
    "               \"density\": \"2.7±1.3 g/cm3\",\n",
    "               \"speed\": \"19.3 km/s\",\n",
    "               \"img\": \"static/img/Athamantis.jpeg\"\n",
    "}\n",
    "\n",
    "\n",
    "app = Flask(__name__)\n",
    "\n",
    "# -------------- CONFIGURATION --------------\n",
    "# ze souboru pomocí \"třídy\"\n",
    "app.config.from_object(Config)\n",
    "\n",
    "# -------------- INITIALIZATION --------------\n",
    "register_routes(app, my_crew, my_asteroid)\n",
    "\n",
    "\n",
    "# -------------- STARTING THE APP --------------\n",
    "if __name__ == \"__main__\":\n",
    "    app.run()"
   ]
  },
  {
   "cell_type": "code",
   "execution_count": null,
   "id": "b69ea561",
   "metadata": {},
   "outputs": [],
   "source": [
    "# routes.py\n",
    "from flask import render_template, redirect, url_for\n",
    "from forms import NewCrewMemberForm # import our form class for \"onboarding\"\n",
    "\n",
    "\n",
    "def register_routes(app, my_crew, my_asteroid):\n",
    "    @app.route(\"/\")\n",
    "    def homepage():\n",
    "        return render_template(\"homepage.html\")\n",
    "\n",
    "    @app.route(\"/mission_briefing\")\n",
    "    def mission_briefing():\n",
    "        return render_template(\"mission_briefing.html\")\n",
    "\n",
    "    @app.route(\"/target_asteroid\")\n",
    "    def target_asteroid():\n",
    "        return render_template(\"target_asteroid.html\", my_asteroid=my_asteroid)\n",
    "\n",
    "    @app.route(\"/crew_members\")\n",
    "    def crew_members():\n",
    "        return render_template(\"crew_members.html\", my_crew=my_crew)\n",
    "\n",
    "    @app.route(\"/crew_members/<int:id>\")\n",
    "    def crew_members_details(id):\n",
    "        for crew_member in my_crew:\n",
    "            if crew_member[\"id\"] == id:\n",
    "                return render_template(\"crew_members_details.html\", crew_member=crew_member)\n",
    "        return \"Crew member not found\"\n",
    "    \n",
    "    @app.route(\"/onboarding\", methods=[\"GET\", \"POST\"])\n",
    "    def onboarding():\n",
    "        form = NewCrewMemberForm()\n",
    "        if form.validate_on_submit():\n",
    "            newbie_id = my_crew[-1][\"id\"] + 1\n",
    "            newbie_status = \"Pending..\"\n",
    "            \n",
    "            my_crew.append({\n",
    "                \"id\": newbie_id,\n",
    "                \"name\": form.name.data,\n",
    "                \"specialization\": form.specialization.data,\n",
    "                \"status\": newbie_status\n",
    "            })\n",
    "            return redirect(url_for(\"crew_members\"))\n",
    "        return render_template(\"onboarding.html\", form=form)"
   ]
  },
  {
   "cell_type": "code",
   "execution_count": null,
   "id": "50c73720",
   "metadata": {},
   "outputs": [],
   "source": [
    "# forms.py\n",
    "\n",
    "from flask_wtf import FlaskForm\n",
    "from wtforms import StringField, SubmitField, validators\n",
    "\n",
    "class NewCrewMemberForm(FlaskForm):\n",
    "    name = StringField(label=\"Name\", validators=[validators.DataRequired()])\n",
    "    specialization = StringField(label=\"Specialization\", validators=[validators.DataRequired()])\n",
    "    \n",
    "    submit = SubmitField(label=\"Submit new crew member\")"
   ]
  },
  {
   "cell_type": "markdown",
   "id": "a551e107",
   "metadata": {},
   "source": [
    "## /templates"
   ]
  },
  {
   "cell_type": "code",
   "execution_count": null,
   "id": "f1a3d728",
   "metadata": {
    "vscode": {
     "languageId": "html"
    }
   },
   "outputs": [],
   "source": [
    "<!-- header.html -->\n",
    " \n",
    "<nav>\n",
    "    <ul>\n",
    "        <li><a href=\"{{ url_for('homepage') }}\">Home</a></li> \n",
    "        <li><a href=\"{{ url_for('mission_briefing') }}\">Our Mission</a></li>\n",
    "        <li><a href=\"{{ url_for('target_asteroid') }}\">The Asteroid</a></li>\n",
    "        <li><a href=\"{{ url_for('crew_members') }}\">Our Crew</a></li>\n",
    "        <li><a href=\"{{ url_for('onboarding') }}\">New Recruits Onboarding</a></li>\n",
    "    </ul>\n",
    "</nav>"
   ]
  },
  {
   "cell_type": "code",
   "execution_count": null,
   "id": "c108d85c",
   "metadata": {
    "vscode": {
     "languageId": "html"
    }
   },
   "outputs": [],
   "source": [
    "<!-- footer.html -->\n",
    " \n",
    "<footer>\n",
    "    <br>\n",
    "    <p>Deep Space Exploration Corp.</p>\n",
    "    <p>All rights reserved</p>\n",
    "</footer>"
   ]
  },
  {
   "cell_type": "code",
   "execution_count": null,
   "id": "9eeee449",
   "metadata": {
    "vscode": {
     "languageId": "html"
    }
   },
   "outputs": [],
   "source": [
    "<!-- base.html -->\n",
    " \n",
    "<!DOCTYPE html>\n",
    "<html lang=\"en\">\n",
    "<head>\n",
    "    <meta charset=\"UTF-8\">\n",
    "    <meta name=\"viewport\" content=\"width=device-width, initial-scale=1.0\">\n",
    "    <title>{% block page_title %} Title {% endblock page_title %}</title> \n",
    "    \n",
    "</head>\n",
    "\n",
    "<body>\n",
    "    {% include 'header.html' %} \n",
    "    {% block page_content %} Content {% endblock page_content %} \n",
    "    {% include 'footer.html' %} \n",
    "</body>\n",
    "\n",
    "</html>"
   ]
  },
  {
   "cell_type": "code",
   "execution_count": null,
   "id": "e1380fef",
   "metadata": {
    "vscode": {
     "languageId": "html"
    }
   },
   "outputs": [],
   "source": [
    "<!-- homepage.html -->\n",
    "\n",
    "{% extends \"base.html\" %} \n",
    "\n",
    "{% block page_title %} HomePage {% endblock page_title %}\n",
    "\n",
    "{% block page_content %}\n",
    "    <h1>Deep Space Exploration Corp.</h1>\n",
    "    <p>Welcome to our homepage !</p>\n",
    "    <p>Our goal is to mine asteroids from the solar system.</p>\n",
    "{% endblock page_content %}"
   ]
  },
  {
   "cell_type": "code",
   "execution_count": null,
   "id": "88774084",
   "metadata": {
    "vscode": {
     "languageId": "html"
    }
   },
   "outputs": [],
   "source": [
    "<!-- mission_briefing.html -->\n",
    "\n",
    "{% extends \"base.html\" %} \n",
    "\n",
    "{% block page_title %} Mission Debriefing {% endblock page_title %}\n",
    "\n",
    "{% block page_content %}\n",
    "    <h1>Mission</h1>\n",
    "    <p>This is our mission:</p>\n",
    "    <p>get resources from chosen asteroids</p>\n",
    "    <p>make it profitable</p>\n",
    "    <p>expand world's economy</p>\n",
    "{% endblock page_content %}"
   ]
  },
  {
   "cell_type": "code",
   "execution_count": null,
   "id": "5f2178e7",
   "metadata": {
    "vscode": {
     "languageId": "html"
    }
   },
   "outputs": [],
   "source": [
    "<!-- target_asteroid.html -->\n",
    "\n",
    "{% extends \"base.html\" %} \n",
    "\n",
    "{% block page_title %} Target Asteroid {% endblock page_title %}\n",
    "\n",
    "{% block page_content %}\n",
    "    <h1>Target asteroid: {{ my_asteroid[\"name\"] }}</h1>\n",
    "    <p>Mean diameter: {{ my_asteroid[\"diameter\"] }}</p>\n",
    "    <p>Mass: {{ my_asteroid[\"mass\"] }}</p>\n",
    "    <p>Mean density: {{ my_asteroid[\"density\"] }}</p>\n",
    "    <p>Average orbital speed: {{ my_asteroid[\"speed\"] }}</p>\n",
    "    <img src=\"{{ my_asteroid['img'] }}\" width=\"800px\"/>\n",
    "{% endblock page_content %}"
   ]
  },
  {
   "cell_type": "code",
   "execution_count": null,
   "id": "c5909c85",
   "metadata": {
    "vscode": {
     "languageId": "html"
    }
   },
   "outputs": [],
   "source": [
    "<!-- crew_members_details.html -->\n",
    "\n",
    "{% extends \"base.html\" %} \n",
    "\n",
    "{% block page_title %} {{ crew_member[\"name\"] }} {% endblock page_title %}\n",
    "\n",
    "{% block page_content %}\n",
    "    <h1>Crew member {{ crew_member[\"id\"] }}</h1>\n",
    "    <p>Name: {{ crew_member[\"name\"] }}</p>\n",
    "    <p>Specialization: {{ crew_member[\"specialization\"] }}</p>\n",
    "    <p>Status: {{ crew_member[\"status\"] }}</p>\n",
    "{% endblock page_content %}"
   ]
  },
  {
   "cell_type": "code",
   "execution_count": null,
   "id": "667a8bc0",
   "metadata": {
    "vscode": {
     "languageId": "html"
    }
   },
   "outputs": [],
   "source": [
    "<!-- crew_members.html -->\n",
    "\n",
    "{% extends \"base.html\" %}\n",
    "\n",
    "{% block page_title %} Our Crew {% endblock page_title %}\n",
    "\n",
    "{% block page_content %}\n",
    "    {% for member in my_crew %}\n",
    "        <p><a href=\"{{ url_for('crew_members_details', id=member['id']) }}\">{{ member[\"name\"] }}</a></p>\n",
    "    {% endfor %}\n",
    "{% endblock page_content %}"
   ]
  },
  {
   "cell_type": "code",
   "execution_count": null,
   "id": "a5a87fc4",
   "metadata": {
    "vscode": {
     "languageId": "html"
    }
   },
   "outputs": [],
   "source": [
    "<!-- onboarding.html -->\n",
    "\n",
    "{% extends \"base.html\" %} <!-- \"zdědíme\" obsah z base.html -->\n",
    "\n",
    "{% block page_title %} Onboarding {% endblock page_title %}\n",
    "\n",
    "{% block page_content %}\n",
    "<form method = \"POST\" action = \"{{ url_for('onboarding') }}\">\n",
    "    <p>New crew member onboarding form</p>\n",
    "    {{ form.hidden_tag() }} <!-- CSRF token -->\n",
    "\n",
    "    <p>{{ form.name.label }} {{ form.name(size=30) }}</p>\n",
    "    <p>{{ form.specialization.label }} {{ form.specialization(size=30) }}</p>\n",
    "\n",
    "    <p>{{ form.submit() }}</p>\n",
    "</form>\n",
    "{% endblock page_content %}"
   ]
  },
  {
   "cell_type": "markdown",
   "id": "352cb393",
   "metadata": {},
   "source": [
    "---\n",
    "#### © Jiří Svoboda (George Freedom)\n",
    "- Web: https://GeorgeFreedom.com\n",
    "- LinkedIn: https://www.linkedin.com/in/georgefreedom/\n",
    "- Book me: https://cal.com/georgefreedom"
   ]
  }
 ],
 "metadata": {
  "language_info": {
   "name": "python"
  }
 },
 "nbformat": 4,
 "nbformat_minor": 5
}

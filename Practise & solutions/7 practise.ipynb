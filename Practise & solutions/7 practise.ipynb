{
 "cells": [
  {
   "cell_type": "markdown",
   "id": "e3956cb5",
   "metadata": {},
   "source": [
    "### Practise\n",
    "\n",
    "**Assembly Line Construction**\n",
    "We have a simple, functional prototype application for monitoring an atmospheric processor, but it lacks modularity for future expansion. Our task is to refactor this prototype into a professional, scalable structure using an `application factory`.\n",
    "\n",
    "\n",
    "**Preparation:**\n",
    "\n",
    "We have this unorganized `processor_monitor.py` file with a recommended default configuration:\n",
    "```python\n",
    "# processor_monitor.py\n",
    "\n",
    "from flask import Flask\n",
    "\n",
    "\n",
    "app = Flask(__name__)\n",
    "# --- Configuration ---\n",
    "app.config['SECRET_KEY'] = 'a-secret-key-for-the-processor'\n",
    "app.config['DEBUG'] = True\n",
    "\n",
    "\n",
    "@app.route(\"/\")\n",
    "def index():\n",
    "    return \"<h1>Atmospheric Processor Monitor</h1><p>Status: Online</p>\"\n",
    "\n",
    "@app.route(\"/data\")\n",
    "def get_data():\n",
    "    return {\"pressure\": \"102.5 kPa\", \"oxygen_level\": \"20.9%\"}\n",
    "\n",
    "if __name__ == \"__main__\":\n",
    "    app.run()\n",
    "```\n",
    "\n",
    "**Assignment:**\n",
    "We will create a new \"Assembly Line\" project structure and move the code from `processor_monitor.py` into it:\n",
    "\n",
    "1.  **\"Assembly Line\" structure:**\n",
    "- processor_project/\n",
    "  - wsgi.py\n",
    "  - app/\n",
    "    - _ _ init _ _.py\n",
    "    - config.py\n",
    "    - routes.py\n",
    "\n",
    "2.  **`config.py`:** Move the configuration into the configuration file.\n",
    "3.  **`routes.py`:** Move the routes and wrap them in a function.\n",
    "4.  **Build the Application Factory** = in `app/__init__.py`: create a `create_app()` function that creates an instance of `app`, loads the configuration from `config.py`, and registers the routes from `routes.py`.\n",
    "5.  **Create `wsgi.py`:** Write a startup script that imports and starts the application factory."
   ]
  },
  {
   "cell_type": "code",
   "execution_count": null,
   "id": "eaf07ab6",
   "metadata": {},
   "outputs": [],
   "source": [
    "# app/config.py\n",
    "\n",
    "SECRET_KEY = 'a-secret-key-for-the-processor'\n",
    "DEBUG = True"
   ]
  },
  {
   "cell_type": "code",
   "execution_count": null,
   "id": "d875ddf5",
   "metadata": {},
   "outputs": [],
   "source": [
    "# app/routes.py\n",
    "\n",
    "def register_routes(app):\n",
    "    @app.route(\"/\")\n",
    "    def index():\n",
    "        return \"<h1>Atmospheric Processor Monitor</h1><p>Status: Online</p>\"\n",
    "\n",
    "    @app.route(\"/data\")\n",
    "    def get_data():\n",
    "        return {\"pressure\": \"102.5 kPa\", \"oxygen_level\": \"20.9%\"}"
   ]
  },
  {
   "cell_type": "code",
   "execution_count": null,
   "id": "f58774cb",
   "metadata": {},
   "outputs": [],
   "source": [
    "# app/__init__.py\n",
    "\n",
    "from flask import Flask\n",
    "from . import config\n",
    "from . import routes\n",
    "\n",
    "def create_app():\n",
    "\n",
    "    app = Flask(__name__)\n",
    "\n",
    "    app.config.from_pyfile(config)\n",
    "\n",
    "    routes.register_routes(app)\n",
    "\n",
    "    return app"
   ]
  },
  {
   "cell_type": "code",
   "execution_count": null,
   "id": "3be6c94c",
   "metadata": {},
   "outputs": [],
   "source": [
    "# wsgi.py\n",
    "\n",
    "from app import create_app\n",
    "\n",
    "app = create_app()\n",
    "\n",
    "if __name__ == \"__main__\":\n",
    "    app.run()"
   ]
  },
  {
   "cell_type": "markdown",
   "id": "a2194449",
   "metadata": {},
   "source": [
    "### **Project (Homework): Upgrading the Core Control System**\n",
    "\n",
    "**Mission:** Our current control system is functional, but it's a monolithic prototype. As the mission expands and tasks become more complex, it becomes cluttered and difficult to maintain. Our task is to perform the first phase of refactoring and rebuild the core of our application into a professional, scalable architecture using an application factory.\n",
    "\n",
    "\n",
    "**Basic application structure:**\n",
    "- my_project/\n",
    "    - **wsgi.py**\n",
    "    - **app/**\n",
    "        - **_ _ init _ _.py**\n",
    "        - routes.py\n",
    "        - forms.py\n",
    "        - database.py\n",
    "        - **models/** \n",
    "            - **_ _ init _ _.py**\n",
    "            - **crewmember.py**\n",
    "        - data/\n",
    "            - **_ _ init _ _.py**\n",
    "            - asteroid.py\n",
    "            - crew.py\n",
    "        - templates/\n",
    "        - static/\n",
    "        - config/\n",
    "    - **/instance**\n",
    "        - **my_database.db**\n",
    "\n",
    "\n",
    "Because our application has become a package with modules (and subpackages), the file with our **SQLite DB** will be created `**again** in the **instance** folder inside our project folder` - the application folder **/app** has become the **root** folder and the DB will be created \"next to\" it = in the project folder.\n",
    "\n",
    "\n",
    "**1. Upgrading the Core Control System (Application Factory):** * Create a `wsgi.py` file, which will serve as the external launcher for our mission.\n",
    "* Move all the logic for creating and configuring the application from the `my_app.py` file to a `create_app()` function in the `app/__init__.py` file = this is how we create the **application factory**.\n",
    "* Modify `wsgi.py` to import and run the application from this factory.\n",
    "\n",
    "**2. Standardizing Data Schemas:**\n",
    "* Create a new **package** `app/models/`.\n",
    "* Move the `CrewMember` model definition to a separate file `app/models/crew_member.py`.\n",
    "* Create `app/models/__init__.py` (turning the folder into a package) and import the table model.\n",
    "* Turn our `app/data` folder into a **package**.\n",
    "* Create `__init__.py` for the `data` folder and import our older data about the asteroid and the crew.\n",
    "* Modify the data imports in the files and in the application factory accordingly = we will use `relative path specification`.\n",
    "\n",
    "**3. Systems Check:**\n",
    "* After completing the modifications, test that the application still starts and all existing routes and functions work as they should."
   ]
  },
  {
   "cell_type": "code",
   "execution_count": null,
   "id": "61dec435",
   "metadata": {},
   "outputs": [],
   "source": [
    "# app/config/configuration.py\n",
    "\n",
    "class Config:\n",
    "    \"\"\"\n",
    "    Set Flask config variables\n",
    "    \"\"\"\n",
    "    # General Config\n",
    "    DEBUG = True\n",
    "    STATIC_FOLDER = 'static' \n",
    "    TEMPLATES_FOLDER = 'templates' \n",
    "    SECRET_KEY = 'my_secret_something' \n",
    "\n",
    "    # Database Config (set up DB connection) - for SQLite\n",
    "    SQLALCHEMY_DATABASE_URI = 'sqlite:///my_database.db' \n",
    "    SQLALCHEMY_TRACK_MODIFICATIONS = False "
   ]
  },
  {
   "cell_type": "code",
   "execution_count": null,
   "id": "503ca041",
   "metadata": {},
   "outputs": [],
   "source": [
    "# app/__init__.py\n",
    "\n",
    "from .config.configuration import Config\n",
    "from flask import Flask\n",
    "from .database import db  \n",
    "from .data import my_asteroid, my_crew \n",
    "from .models import CrewMember  \n",
    "from .routes import register_routes\n",
    "\n",
    "\n",
    "def app_factory():\n",
    "\n",
    "    app = Flask(__name__)\n",
    "\n",
    "    # CONFIGURACION\n",
    "    app.config.from_object(Config) \n",
    "\n",
    "    # PLUGIN INIT - extensions for \"app\" object\n",
    "    db.init_app(app) \n",
    "\n",
    "    # REGISTRATION (Routes)\n",
    "    register_routes(app, db, my_asteroid) \n",
    "    \n",
    "    # APP CONTEXT - where we need to know the structure of the app \n",
    "    with app.app_context():\n",
    "        db.create_all() \n",
    "        if not CrewMember.query.first(): \n",
    "            for crew_member in my_crew:\n",
    "                    new_crew_member = CrewMember(\n",
    "                    id=crew_member[\"id\"], \n",
    "                    name=crew_member[\"name\"], \n",
    "                    specialization=crew_member[\"specialization\"], \n",
    "                    status=crew_member[\"status\"])\n",
    "            db.session.add(new_crew_member)\n",
    "            db.session.commit()\n",
    "\n",
    "    return app"
   ]
  },
  {
   "cell_type": "markdown",
   "id": "829e187d",
   "metadata": {},
   "source": [
    "## /models"
   ]
  },
  {
   "cell_type": "code",
   "execution_count": null,
   "id": "c0b87768",
   "metadata": {},
   "outputs": [],
   "source": [
    "# app/models/__init__.py\n",
    "\n",
    "from .crewmember import CrewMember"
   ]
  },
  {
   "cell_type": "code",
   "execution_count": null,
   "id": "8bc8ef5a",
   "metadata": {},
   "outputs": [],
   "source": [
    "# app/models/crewmember.py\n",
    "\n",
    "from ..database import db \n",
    "\n",
    "\n",
    "class CrewMember(db.Model):\n",
    "    __tablename__ = \"crew_members\"\n",
    "    id = db.Column(db.Integer, primary_key=True)\n",
    "    name = db.Column(db.String(100), nullable=False)\n",
    "    specialization = db.Column(db.String(100), nullable=False)\n",
    "    status = db.Column(db.String(100), nullable=False)\n",
    "\n",
    "    def __repr__(self):\n",
    "        return f\"<CrewMember {self.name}>\""
   ]
  },
  {
   "cell_type": "markdown",
   "id": "0ab24a48",
   "metadata": {},
   "source": [
    "## /data"
   ]
  },
  {
   "cell_type": "code",
   "execution_count": null,
   "id": "01cc7ec4",
   "metadata": {},
   "outputs": [],
   "source": [
    "# app/data/__init__.py\n",
    "\n",
    "from .asteroid import my_asteroid\n",
    "from .crew import my_crew"
   ]
  },
  {
   "cell_type": "code",
   "execution_count": null,
   "id": "bcab0db0",
   "metadata": {},
   "outputs": [],
   "source": [
    "# data/asteroid\n",
    "\n",
    "my_asteroid = {\"name\": \"230 Athamantis\",\n",
    "               \"diameter\": \"118±2 km\",\n",
    "               \"mass\": \"(2.3±1.1)*10**18 kg\",\n",
    "               \"density\": \"2.7±1.3 g/cm3\",\n",
    "               \"speed\": \"19.3 km/s\",\n",
    "               \"img\": \"static/img/Athamantis.jpeg\"\n",
    "}"
   ]
  },
  {
   "cell_type": "code",
   "execution_count": null,
   "id": "e76427f4",
   "metadata": {},
   "outputs": [],
   "source": [
    "# data/crew\n",
    "\n",
    "my_crew = [\n",
    "        {\n",
    "            \"id\": 1,\n",
    "            \"name\": \"Dave Fisher\",\n",
    "            \"specialization\": \"AI Engineer\",\n",
    "            \"status\": \"Active\"\n",
    "        },\n",
    "        {\n",
    "            \"id\": 2,\n",
    "            \"name\": \"Izael Alexander\",\n",
    "            \"specialization\": \"Rocket Scientist\",\n",
    "            \"status\": \"Active\"\n",
    "        },\n",
    "        {\n",
    "            \"id\": 3,\n",
    "            \"name\": \"Tethra Dyagran\",\n",
    "            \"specialization\": \"Roboticist\",\n",
    "            \"status\": \"Active\"\n",
    "        },\n",
    "        {\n",
    "            \"id\": 4,\n",
    "            \"name\": \"Mura Lan\",\n",
    "            \"specialization\": \"Astronavigator\",\n",
    "            \"status\": \"Active\"\n",
    "        }\n",
    "    ]"
   ]
  },
  {
   "cell_type": "code",
   "execution_count": null,
   "id": "36cbc39e",
   "metadata": {},
   "outputs": [],
   "source": [
    "# app/routes.py\n",
    "\n",
    "from flask import render_template, redirect, url_for, jsonify\n",
    "from .forms import NewCrewMemberForm \n",
    "from .models import CrewMember\n",
    "\n",
    "\n",
    "def register_routes(app, db, my_asteroid):\n",
    "    @app.route(\"/\")\n",
    "    def homepage():\n",
    "        return render_template(\"homepage.html\")\n",
    "\n",
    "    @app.route(\"/mission_briefing\")\n",
    "    def mission_briefing():\n",
    "        return render_template(\"mission_briefing.html\")\n",
    "\n",
    "    @app.route(\"/target_asteroid\")\n",
    "    def target_asteroid():\n",
    "        return render_template(\"target_asteroid.html\", my_asteroid=my_asteroid)\n",
    "\n",
    "    @app.route(\"/crew_members\")\n",
    "    def crew_members():\n",
    "        my_crew = db.session.query(CrewMember).all()\n",
    "        return render_template(\"crew_members.html\", my_crew=my_crew)\n",
    "\n",
    "    @app.route(\"/crew_members/<int:id>\")\n",
    "    def crew_members_details(id):\n",
    "        crew_member = db.session.query(CrewMember).get(id)\n",
    "        if crew_member:\n",
    "            return render_template(\"crew_members_details.html\", crew_member=crew_member)\n",
    "        return \"Crew member not found\"\n",
    "    \n",
    "    @app.route(\"/onboarding\", methods=[\"GET\", \"POST\"])\n",
    "    def onboarding():\n",
    "        form = NewCrewMemberForm()\n",
    "        if form.validate_on_submit():\n",
    "            db.session.add(CrewMember(\n",
    "                name=form.name.data,\n",
    "                specialization=form.specialization.data,\n",
    "                status=\"Pending..\"\n",
    "            ))\n",
    "            db.session.commit()\n",
    "            return redirect(url_for(\"crew_members\"))\n",
    "        return render_template(\"onboarding.html\", form=form)\n",
    "    \n",
    "\n",
    "# -------------- API - ENDPOINTS --------------\n",
    "    @app.route(\"/api/crew_members\")\n",
    "    def api_crew_members():\n",
    "        all_crew_members = db.session.query(CrewMember).all()\n",
    "        return jsonify(list({\"id\":member.id, \"name\":member.name, \"specialization\":member.specialization, \"status\":member.status} for member in all_crew_members)), 200\n",
    "    \n",
    "    @app.route(\"/api/target_asteroid\")\n",
    "    def api_target_asteroid():\n",
    "        return jsonify(my_asteroid), 200"
   ]
  },
  {
   "cell_type": "code",
   "execution_count": null,
   "id": "3c04db33",
   "metadata": {},
   "outputs": [],
   "source": [
    "# app/forms.py\n",
    "\n",
    "from flask_wtf import FlaskForm\n",
    "from wtforms import StringField, SubmitField, validators\n",
    "\n",
    "class NewCrewMemberForm(FlaskForm):\n",
    "    name = StringField(label=\"Name\", validators=[validators.DataRequired()])\n",
    "    specialization = StringField(label=\"Specialization\", validators=[validators.DataRequired()])\n",
    "    \n",
    "    submit = SubmitField(label=\"Submit new crew member\")"
   ]
  },
  {
   "cell_type": "code",
   "execution_count": null,
   "id": "a8a73e34",
   "metadata": {},
   "outputs": [],
   "source": [
    "# app/database.py\n",
    "\n",
    "from flask_sqlalchemy import SQLAlchemy\n",
    "\n",
    "db = SQLAlchemy()"
   ]
  },
  {
   "cell_type": "code",
   "execution_count": null,
   "id": "87c1820a",
   "metadata": {},
   "outputs": [],
   "source": [
    "# wsgi.py\n",
    "\n",
    "from app import app_factory\n",
    "\n",
    "\n",
    "app = app_factory()\n",
    "\n",
    "if __name__ == \"__main__\":\n",
    "    app.run(host='0.0.0.0')"
   ]
  },
  {
   "cell_type": "markdown",
   "id": "7921839a",
   "metadata": {},
   "source": [
    "## /templates"
   ]
  },
  {
   "cell_type": "code",
   "execution_count": null,
   "id": "3d14cf85",
   "metadata": {
    "vscode": {
     "languageId": "html"
    }
   },
   "outputs": [],
   "source": [
    "<!-- header.html -->\n",
    "\n",
    "<nav>\n",
    "    <ul>\n",
    "        <li><a href=\"{{ url_for('homepage') }}\">Home</a></li> \n",
    "        <li><a href=\"{{ url_for('mission_briefing') }}\">Our Mission</a></li>\n",
    "        <li><a href=\"{{ url_for('target_asteroid') }}\">The Asteroid</a></li>\n",
    "        <li><a href=\"{{ url_for('crew_members') }}\">Our Crew</a></li>\n",
    "        <li><a href=\"{{ url_for('onboarding') }}\">New Recruits Onboarding</a></li>\n",
    "    </ul>\n",
    "</nav>"
   ]
  },
  {
   "cell_type": "code",
   "execution_count": null,
   "id": "c3506a03",
   "metadata": {
    "vscode": {
     "languageId": "html"
    }
   },
   "outputs": [],
   "source": [
    "<!-- footer.html -->\n",
    " \n",
    "<footer>\n",
    "    <br>\n",
    "    <p>Deep Space Exploration Corp.</p>\n",
    "    <p>All rights reserved</p>\n",
    "</footer>"
   ]
  },
  {
   "cell_type": "code",
   "execution_count": null,
   "id": "66cf01ca",
   "metadata": {
    "vscode": {
     "languageId": "html"
    }
   },
   "outputs": [],
   "source": [
    "<!-- base.html -->\n",
    " \n",
    "<!DOCTYPE html>\n",
    "<html lang=\"en\">\n",
    "<head>\n",
    "    <meta charset=\"UTF-8\">\n",
    "    <meta name=\"viewport\" content=\"width=device-width, initial-scale=1.0\">\n",
    "    <title>{% block page_title %} Title {% endblock page_title %}</title> \n",
    "    \n",
    "</head>\n",
    "\n",
    "<body>\n",
    "    {% include 'header.html' %} \n",
    "    {% block page_content %} Content {% endblock page_content %} \n",
    "    {% include 'footer.html' %} \n",
    "</body>\n",
    "\n",
    "</html>"
   ]
  },
  {
   "cell_type": "code",
   "execution_count": null,
   "id": "5243c816",
   "metadata": {
    "vscode": {
     "languageId": "html"
    }
   },
   "outputs": [],
   "source": [
    "<!-- homepage.html -->\n",
    "\n",
    "{% extends \"base.html\" %} \n",
    "\n",
    "{% block page_title %} HomePage {% endblock page_title %}\n",
    "\n",
    "{% block page_content %}\n",
    "    <h1>Deep Space Exploration Corp.</h1>\n",
    "    <p>Welcome to our homepage !</p>\n",
    "    <p>Our goal is to mine asteroids from the solar system.</p>\n",
    "{% endblock page_content %}"
   ]
  },
  {
   "cell_type": "code",
   "execution_count": null,
   "id": "2f9cfda5",
   "metadata": {
    "vscode": {
     "languageId": "html"
    }
   },
   "outputs": [],
   "source": [
    "<!-- mission_briefing.html -->\n",
    "\n",
    "{% extends \"base.html\" %}\n",
    "\n",
    "{% block page_title %} Mission Debriefing {% endblock page_title %}\n",
    "\n",
    "{% block page_content %}\n",
    "    <h1>Mission</h1>\n",
    "    <p>This is our mission:</p>\n",
    "    <p>get resources from chosen asteroids</p>\n",
    "    <p>make it profitable</p>\n",
    "    <p>expand world's economy</p>\n",
    "{% endblock page_content %}"
   ]
  },
  {
   "cell_type": "code",
   "execution_count": null,
   "id": "f484fef4",
   "metadata": {
    "vscode": {
     "languageId": "html"
    }
   },
   "outputs": [],
   "source": [
    "<!-- target_asteroid.html -->\n",
    "\n",
    "{% extends \"base.html\" %}\n",
    "\n",
    "{% block page_title %} Target Asteroid {% endblock page_title %}\n",
    "\n",
    "{% block page_content %}\n",
    "    <h1>Target asteroid: {{ my_asteroid[\"name\"] }}</h1>\n",
    "    <p>Mean diameter: {{ my_asteroid[\"diameter\"] }}</p>\n",
    "    <p>Mass: {{ my_asteroid[\"mass\"] }}</p>\n",
    "    <p>Mean density: {{ my_asteroid[\"density\"] }}</p>\n",
    "    <p>Average orbital speed: {{ my_asteroid[\"speed\"] }}</p>\n",
    "    <img src=\"{{ my_asteroid['img'] }}\" width=\"800px\"/>  \n",
    "{% endblock page_content %}"
   ]
  },
  {
   "cell_type": "code",
   "execution_count": null,
   "id": "812ee8bc",
   "metadata": {
    "vscode": {
     "languageId": "html"
    }
   },
   "outputs": [],
   "source": [
    "<!-- crew_members_details.html -->\n",
    "\n",
    "{% extends \"base.html\" %} \n",
    "\n",
    "{% block page_title %} {{ crew_member[\"name\"] }} {% endblock page_title %}\n",
    "\n",
    "{% block page_content %}\n",
    "    <h1>Crew member {{ crew_member[\"id\"] }}</h1>\n",
    "    <p>Name: {{ crew_member[\"name\"] }}</p>\n",
    "    <p>Specialization: {{ crew_member[\"specialization\"] }}</p>\n",
    "    <p>Status: {{ crew_member[\"status\"] }}</p>\n",
    "{% endblock page_content %}"
   ]
  },
  {
   "cell_type": "code",
   "execution_count": null,
   "id": "efdae677",
   "metadata": {
    "vscode": {
     "languageId": "html"
    }
   },
   "outputs": [],
   "source": [
    "<!-- crew_members.html -->\n",
    "\n",
    "{% extends \"base.html\" %} \n",
    "\n",
    "{% block page_title %} Our Crew {% endblock page_title %}\n",
    "\n",
    "{% block page_content %}\n",
    "    {% for member in my_crew %}\n",
    "        <p><a href=\"{{ url_for('crew_members_details', id=member['id']) }}\">{{ member[\"name\"] }}</a></p>\n",
    "    {% endfor %}\n",
    "{% endblock page_content %}"
   ]
  },
  {
   "cell_type": "code",
   "execution_count": null,
   "id": "31f128cf",
   "metadata": {
    "vscode": {
     "languageId": "html"
    }
   },
   "outputs": [],
   "source": [
    "<!-- onboarding.html -->\n",
    "\n",
    "{% extends \"base.html\" %} \n",
    "\n",
    "{% block page_title %} Onboarding {% endblock page_title %}\n",
    "\n",
    "{% block page_content %}\n",
    "<form method = \"POST\" action = \"{{ url_for('onboarding') }}\">\n",
    "    <p>New crew member onboarding form</p>\n",
    "    {{ form.hidden_tag() }} \n",
    "\n",
    "    <p>{{ form.name.label }} {{ form.name(size=30) }}</p>\n",
    "    <p>{{ form.specialization.label }} {{ form.specialization(size=30) }}</p>\n",
    "\n",
    "    <p>{{ form.submit() }}</p>\n",
    "</form>\n",
    "{% endblock page_content %}"
   ]
  },
  {
   "cell_type": "markdown",
   "id": "35331b29",
   "metadata": {},
   "source": [
    "---\n",
    "#### © Jiří Svoboda (George Freedom)\n",
    "- Web: https://GeorgeFreedom.com\n",
    "- LinkedIn: https://www.linkedin.com/in/georgefreedom/\n",
    "- Book me: https://cal.com/georgefreedom"
   ]
  }
 ],
 "metadata": {
  "language_info": {
   "name": "python"
  }
 },
 "nbformat": 4,
 "nbformat_minor": 5
}

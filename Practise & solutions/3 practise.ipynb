{
 "cells": [
  {
   "cell_type": "markdown",
   "id": "916c8709",
   "metadata": {},
   "source": [
    "### **Practise I**\n",
    "\n",
    "**Sensor Status Report**\n",
    "\n",
    "We will create an application and a `/sensor_status` route in it. This route will pass a list of several sensors to the `sensors.html` HTML template. Each sensor will be a dictionary with `name` and `status` keys.\n",
    "\n",
    "- In the `sensors.html` template, we will then use JINJA to loop through all the sensors and print their names.\n",
    "- If a sensor has a `status` set to `\"offline\"`, we will display a **\"WARNING: OFFLINE\"** warning next to its name.\n",
    "\n",
    "**Data:**\n",
    "```python\n",
    "sensor_data = [\n",
    "        {'name': 'Core temperature', 'status': 'online'},\n",
    "        {'name': 'Cabin pressure', 'status': 'online'},\n",
    "        {'name': 'Gyroscope', 'status': 'offline'},\n",
    "        {'name': 'Solar panels', 'status': 'online'}\n",
    "    ]\n",
    "```"
   ]
  },
  {
   "cell_type": "code",
   "execution_count": null,
   "id": "b2e2d50e",
   "metadata": {},
   "outputs": [],
   "source": [
    "from flask import Flask, render_template\n",
    "\n",
    "sensor_data = [\n",
    "        {'name': 'Core temperature', 'status': 'online'},\n",
    "        {'name': 'Cabin pressure', 'status': 'online'},\n",
    "        {'name': 'Gyroscope', 'status': 'offline'},\n",
    "        {'name': 'Solar panels', 'status': 'online'}\n",
    "    ]\n",
    "\n",
    "app = Flask(__name__, template_folder=\"templates\", static_folder=\"static\")\n",
    "\n",
    "@app.route(\"/sensor_status\")\n",
    "def sensor_status():\n",
    "    data = sensor_data\n",
    "    return render_template(\"sensors.html\", data=data)\n",
    "# file sensors.html must be in folder \"templates\"\n",
    "\n",
    "if __name__ == \"__main__\":\n",
    "    app.run(debug=True)"
   ]
  },
  {
   "cell_type": "code",
   "execution_count": null,
   "id": "aec8ba45",
   "metadata": {
    "vscode": {
     "languageId": "html"
    }
   },
   "outputs": [],
   "source": [
    "<!-- sensors.html -->\n",
    "\n",
    "<h2>Sensors information:</h2>\n",
    "    {% for sensor in data %}\n",
    "        <h3>{{ sensor[\"name\"] }}</h3> \n",
    "        {% if sensor[\"status\"] == \"offline\" %} \n",
    "            <h4>WARNING: OFFLINE</h4> \n",
    "        {% else %}\n",
    "            <p>Sensor OK</p>\n",
    "        {% endif %}\n",
    "\n",
    "    {% endfor %}"
   ]
  },
  {
   "cell_type": "markdown",
   "id": "ba9d4ba4",
   "metadata": {},
   "source": [
    "### **Practise II**\n",
    "**Standardized Report Format**\n",
    "\n",
    "We will create a standardized format for mission reports using template inheritance.\n",
    "\n",
    "1.  **Create `base_report.html`:** This will be the base (parent) template. It must contain:\n",
    "    * A heading `<h1>Mission Report</h1>`\n",
    "    * A block for content\n",
    "    * A footer `<p>-- End of Transmission --</p>`\n",
    "\n",
    "2.  **Create `daily_log.html`:** This will be the inheriting (child) template.\n",
    "    * At the beginning, it must \"inherit\" everything from `base_report.html`.\n",
    "    * Then, it must overwrite the content of the block with its own text, for example: `<h2>Daily Log: Day 5</h2><p>Solar wind levels are stable.</p>`.\n",
    "\n",
    "3.  **In `my_app.py`**, create a simple route `/daily_log` that only displays the `daily_log.html` template."
   ]
  },
  {
   "cell_type": "code",
   "execution_count": null,
   "id": "1224c6e7",
   "metadata": {},
   "outputs": [],
   "source": [
    "from flask import Flask, render_template\n",
    "\n",
    "app = Flask(__name__, template_folder=\"templates\")\n",
    "\n",
    "@app.route(\"/daily_log\")\n",
    "def daily_log():\n",
    "    return render_template(\"daily_log.html\")\n",
    "\n",
    "if __name__ == \"__main__\":\n",
    "    app.run(debug=True)"
   ]
  },
  {
   "cell_type": "code",
   "execution_count": null,
   "id": "6e722e34",
   "metadata": {
    "vscode": {
     "languageId": "html"
    }
   },
   "outputs": [],
   "source": [
    "<!-- base_report.html -->\n",
    "\n",
    "<h1>Mission Report</h1>\n",
    "\n",
    "{% block content %}\n",
    "    <p>blok pro přepsání</p>\n",
    "{% endblock content %}\n",
    "\n",
    "<p>-- End of Transmission --</p>"
   ]
  },
  {
   "cell_type": "code",
   "execution_count": null,
   "id": "1b1db194",
   "metadata": {
    "vscode": {
     "languageId": "html"
    }
   },
   "outputs": [],
   "source": [
    "<!-- daily_log.html -->\n",
    " \n",
    "{% extends \"base_report.html\" %}\n",
    "\n",
    "{% block content %} \n",
    "    <h2>Daily Log: Day 5</h2>\n",
    "    <p>Solar wind levels are stable.</p> \n",
    "{% endblock content %}"
   ]
  },
  {
   "cell_type": "markdown",
   "id": "806d2ffe",
   "metadata": {},
   "source": [
    "### **Project (Homework): Central Data Hub Implementation**\n",
    "\n",
    "**Mission:** Enhance the information panel from the previous mission with a unified structure and dynamic display of crew data. The goal is to apply knowledge of the Jinja2 templating system and increase the application's modularity.\n",
    "\n",
    "`Basic application structure`:\n",
    "- my_project/\n",
    "  - my_app.py\n",
    "  - **routes.py**\n",
    "  - templates/\n",
    "  - static/\n",
    "  - **config/**\n",
    "\n",
    "1.  **Creating a Standardized Interface (Master Template):**\n",
    "- Create a base template `base.html` that will define a unified look for the entire information panel.\n",
    "- Create partial templates `header.html` (for the navigation bar with links) and `footer.html` (for your corporation's copyright footer).\n",
    "- Using `{% include ... %}`, insert `header.html` and `footer.html` into the base template `base.html`.\n",
    "- In `base.html`, define at least one block for the main page content, e.g., `{% block content %}`.\n",
    "\n",
    "2.  **Upgrading Existing Panels:**\n",
    "- Modify all your templates for the routes (`/`, `/mission_briefing`, `/target_asteroid`) so that they inherit from `base.html`.\n",
    "- Insert the unique content of the templates into the `content` block.\n",
    "\n",
    "3.  **Upgrading Crew Info:**\n",
    "- From the existing `/crew_members/<int:id>` route, extract the list of dictionaries with crew data and make it a global variable.\n",
    "- Further modify the `/crew_members/<int:id>` route to generate an HTML page using `render_template()`.\n",
    "- Then, create a new route and template for `/crew_members`.\n",
    "- In the template for the `/crew_members` route, use a loop to display the names of all crew members - each name will also be a **link** - use `url_for()`.\n",
    "- This link (for each crew member) will lead to their detailed profile at `/crew_members/<int:id>`.\n",
    "\n",
    "4.  **Upgrading Asteroid Information:**\n",
    "- Remove the route and HTML file for `/target_asteroid/<string:asteroid_name>`.\n",
    "- For the `/target_asteroid/` route, move the data from the HTML file to a global variable in our program and pass it to the HTML.\n",
    "\n",
    "5.  **Optimizing Communication Protocols (Bonus I):**\n",
    "- Move all your route definitions to a separate file (e.g., `routes.py`) and import them into your main program.\n",
    "\n",
    "6.  **Unified Configuration (Bonus II):**\n",
    "- Move the configuration from the application to a file in the `config/` folder."
   ]
  },
  {
   "cell_type": "code",
   "execution_count": null,
   "id": "eeb81db0",
   "metadata": {},
   "outputs": [],
   "source": [
    "# configuration.py\n",
    "\n",
    "class Config:\n",
    "    \"\"\"\n",
    "    Set Flask config variables\n",
    "    \"\"\"\n",
    "    # General Config\n",
    "    DEBUG = True # setting for debugging\n",
    "    STATIC_FOLDER = 'static' # static files\n",
    "    TEMPLATES_FOLDER = 'templates' # HTML templates"
   ]
  },
  {
   "cell_type": "code",
   "execution_count": null,
   "id": "e70c2bfa",
   "metadata": {},
   "outputs": [],
   "source": [
    "from flask import Flask\n",
    "from config.configuration import Config # import \"Config\" class from \"configuration\" file in \"config\" folder\n",
    "from routes import register_routes\n",
    "\n",
    "my_crew = [\n",
    "        {\n",
    "            \"id\": 1,\n",
    "            \"name\": \"Dave Fisher\",\n",
    "            \"specialization\": \"AI Engineer\",\n",
    "            \"status\": \"Active\"\n",
    "        },\n",
    "        {\n",
    "            \"id\": 2,\n",
    "            \"name\": \"Izael Alexander\",\n",
    "            \"specialization\": \"Rocket Scientist\",\n",
    "            \"status\": \"Active\"\n",
    "        },\n",
    "        {\n",
    "            \"id\": 3,\n",
    "            \"name\": \"Tethra Dyagran\",\n",
    "            \"specialization\": \"Roboticist\",\n",
    "            \"status\": \"Active\"\n",
    "        },\n",
    "        {\n",
    "            \"id\": 4,\n",
    "            \"name\": \"Mura Lan\",\n",
    "            \"specialization\": \"Astronavigator\",\n",
    "            \"status\": \"Active\"\n",
    "        }\n",
    "    ]\n",
    "\n",
    "my_asteroid = {\"name\": \"230 Athamantis\",\n",
    "               \"diameter\": \"118±2 km\",\n",
    "               \"mass\": \"(2.3±1.1)*10**18 kg\",\n",
    "               \"density\": \"2.7±1.3 g/cm3\",\n",
    "               \"speed\": \"19.3 km/s\",\n",
    "               \"img\": \"static/img/Athamantis.jpeg\"\n",
    "}\n",
    "\n",
    "\n",
    "app = Flask(__name__)\n",
    "\n",
    "# -------------- CONFIGURATION --------------\n",
    "# from a file using a \"class\"\n",
    "app.config.from_object(Config)\n",
    "\n",
    "# -------------- INITIALIZATION --------------\n",
    "register_routes(app, my_crew, my_asteroid)\n",
    "\n",
    "\n",
    "# -------------- START appky --------------\n",
    "if __name__ == \"__main__\":\n",
    "    app.run()"
   ]
  },
  {
   "cell_type": "code",
   "execution_count": null,
   "id": "f8e7e72e",
   "metadata": {},
   "outputs": [],
   "source": [
    "# routes.py\n",
    "from flask import render_template\n",
    "\n",
    "def register_routes(app, my_crew, my_asteroid):\n",
    "    @app.route(\"/\")\n",
    "    def homepage():\n",
    "        return render_template(\"homepage.html\")\n",
    "\n",
    "    @app.route(\"/mission_briefing\")\n",
    "    def mission_briefing():\n",
    "        return render_template(\"mission_briefing.html\")\n",
    "\n",
    "    @app.route(\"/target_asteroid\")\n",
    "    def target_asteroid():\n",
    "        return render_template(\"target_asteroid.html\", my_asteroid=my_asteroid)\n",
    "\n",
    "    @app.route(\"/crew_members\")\n",
    "    def crew_members():\n",
    "        return render_template(\"crew_members.html\", my_crew=my_crew)\n",
    "\n",
    "    @app.route(\"/crew_members/<int:id>\")\n",
    "    def crew_members_details(id):\n",
    "        for crew_member in my_crew:\n",
    "            if crew_member[\"id\"] == id:\n",
    "                return render_template(\"crew_members_details.html\", crew_member=crew_member)\n",
    "        return \"Crew member not found\""
   ]
  },
  {
   "cell_type": "markdown",
   "id": "4315df08",
   "metadata": {},
   "source": [
    "## /templates"
   ]
  },
  {
   "cell_type": "code",
   "execution_count": null,
   "id": "8dfa5ea5",
   "metadata": {
    "vscode": {
     "languageId": "html"
    }
   },
   "outputs": [],
   "source": [
    "<!-- header.html -->\n",
    " \n",
    "<nav>\n",
    "    <ul> <!-- all routes (and functions) have to exist for every page we want to create a link for -->\n",
    "        <li><a href=\"{{ url_for('homepage') }}\">Home</a></li> \n",
    "        <li><a href=\"{{ url_for('mission_briefing') }}\">Our Mission</a></li>\n",
    "        <li><a href=\"{{ url_for('target_asteroid') }}\">The Asteroid</a></li>\n",
    "        <li><a href=\"{{ url_for('crew_members') }}\">Our Crew</a></li>\n",
    "    </ul>\n",
    "</nav>"
   ]
  },
  {
   "cell_type": "code",
   "execution_count": null,
   "id": "a7dff8d1",
   "metadata": {
    "vscode": {
     "languageId": "html"
    }
   },
   "outputs": [],
   "source": [
    "<!-- footer.html -->\n",
    " \n",
    "<footer>\n",
    "    <br>\n",
    "    <p>Deep Space Exploration Corp.</p>\n",
    "    <p>All rights reserved</p>\n",
    "</footer>"
   ]
  },
  {
   "cell_type": "code",
   "execution_count": null,
   "id": "af35b4ac",
   "metadata": {
    "vscode": {
     "languageId": "html"
    }
   },
   "outputs": [],
   "source": [
    "<!-- base.html -->\n",
    " \n",
    "<!DOCTYPE html>\n",
    "<html lang=\"en\">\n",
    "<head>\n",
    "    <meta charset=\"UTF-8\">\n",
    "    <meta name=\"viewport\" content=\"width=device-width, initial-scale=1.0\">\n",
    "    <title>{% block page_title %} Title {% endblock page_title %}</title> <!-- dynamic content -->\n",
    "    \n",
    "</head>\n",
    "\n",
    "<body>\n",
    "    {% include 'header.html' %} <!-- we include the content of \"header.html\"  -->\n",
    "    {% block page_content %} Content {% endblock page_content %} <!-- dynamic content -->\n",
    "    {% include 'footer.html' %} <!-- we include the content of \"footer.html\" -->\n",
    "</body>\n",
    "\n",
    "</html>"
   ]
  },
  {
   "cell_type": "code",
   "execution_count": null,
   "id": "76bde099",
   "metadata": {
    "vscode": {
     "languageId": "html"
    }
   },
   "outputs": [],
   "source": [
    "<!-- homepage.html -->\n",
    "\n",
    "{% extends \"base.html\" %} <!-- we inherit content of \"base.html\" -->\n",
    "\n",
    "{% block page_title %} HomePage {% endblock page_title %}\n",
    "\n",
    "{% block page_content %}\n",
    "    <h1>Deep Space Exploration Corp.</h1>\n",
    "    <p>Welcome to our homepage !</p>\n",
    "    <p>Our goal is to mine asteroids from the solar system.</p>\n",
    "{% endblock page_content %}"
   ]
  },
  {
   "cell_type": "code",
   "execution_count": null,
   "id": "f3a21c1a",
   "metadata": {
    "vscode": {
     "languageId": "html"
    }
   },
   "outputs": [],
   "source": [
    "<!-- mission_briefing.html -->\n",
    "\n",
    "{% extends \"base.html\" %} <!-- we inherit content of \"base.html\" -->\n",
    "\n",
    "{% block page_title %} Mission Debriefing {% endblock page_title %}\n",
    "\n",
    "{% block page_content %}\n",
    "    <h1>Mission</h1>\n",
    "    <p>This is our mission:</p>\n",
    "    <p>get resources from chosen asteroids</p>\n",
    "    <p>make it profitable</p>\n",
    "    <p>expand world's economy</p>\n",
    "{% endblock page_content %}"
   ]
  },
  {
   "cell_type": "code",
   "execution_count": null,
   "id": "a1b044fa",
   "metadata": {
    "vscode": {
     "languageId": "html"
    }
   },
   "outputs": [],
   "source": [
    "<!-- target_asteroid.html -->\n",
    "\n",
    "{% extends \"base.html\" %} <!-- we inherit content of \"base.html\" -->\n",
    "\n",
    "{% block page_title %} Target Asteroid {% endblock page_title %}\n",
    "\n",
    "{% block page_content %}\n",
    "    <h1>Target asteroid: {{ my_asteroid[\"name\"] }}</h1>\n",
    "    <p>Mean diameter: {{ my_asteroid[\"diameter\"] }}</p>\n",
    "    <p>Mass: {{ my_asteroid[\"mass\"] }}</p>\n",
    "    <p>Mean density: {{ my_asteroid[\"density\"] }}</p>\n",
    "    <p>Average orbital speed: {{ my_asteroid[\"speed\"] }}</p>\n",
    "    <img src=\"{{ my_asteroid['img'] }}\" width=\"800px\"/>  \n",
    "{% endblock page_content %}"
   ]
  },
  {
   "cell_type": "code",
   "execution_count": null,
   "id": "64a8012d",
   "metadata": {
    "vscode": {
     "languageId": "html"
    }
   },
   "outputs": [],
   "source": [
    "<!-- crew_members_details.html -->\n",
    "\n",
    "{% extends \"base.html\" %} <!-- we inherit content of \"base.html\" -->\n",
    "\n",
    "{% block page_title %} {{ crew_member[\"name\"] }} {% endblock page_title %}\n",
    "\n",
    "{% block page_content %}\n",
    "    <h1>Crew member {{ crew_member[\"id\"] }}</h1>\n",
    "    <p>Name: {{ crew_member[\"name\"] }}</p>\n",
    "    <p>Specialization: {{ crew_member[\"specialization\"] }}</p>\n",
    "    <p>Status: {{ crew_member[\"status\"] }}</p>\n",
    "{% endblock page_content %}"
   ]
  },
  {
   "cell_type": "code",
   "execution_count": null,
   "id": "3c05d5d5",
   "metadata": {
    "vscode": {
     "languageId": "html"
    }
   },
   "outputs": [],
   "source": [
    "<!-- crew_members.html -->\n",
    "\n",
    "{% extends \"base.html\" %} <!-- we inherit content of \"base.html\" -->\n",
    "\n",
    "{% block page_title %} Our Crew {% endblock page_title %}\n",
    "\n",
    "{% block page_content %}\n",
    "    {% for member in my_crew %}\n",
    "        <p><a href=\"{{ url_for('crew_members_details', id=member['id']) }}\">{{ member[\"name\"] }}</a></p>\n",
    "    {% endfor %}\n",
    "{% endblock page_content %}"
   ]
  },
  {
   "cell_type": "markdown",
   "id": "e5bf2391",
   "metadata": {},
   "source": [
    "---\n",
    "#### © Jiří Svoboda (George Freedom)\n",
    "- Web: https://GeorgeFreedom.com\n",
    "- LinkedIn: https://www.linkedin.com/in/georgefreedom/\n",
    "- Book me: https://cal.com/georgefreedom"
   ]
  }
 ],
 "metadata": {
  "language_info": {
   "name": "python"
  }
 },
 "nbformat": 4,
 "nbformat_minor": 5
}

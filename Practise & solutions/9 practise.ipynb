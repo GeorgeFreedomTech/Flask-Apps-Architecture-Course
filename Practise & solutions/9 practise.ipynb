{
 "cells": [
  {
   "cell_type": "markdown",
   "id": "8fa3658e",
   "metadata": {},
   "source": [
    "### **Project (Homework): Launch Sequence**\n",
    "\n",
    "**Mission:** Our control system has successfully passed all simulations in the local environment. Before the final launch into orbit (deployment to a production server), we must perform the last critical adjustments: secure the configuration, improve the appearance, and prepare the startup sequence for the production engines. The goal is to transform our development prototype into a robust, secure, and professional-looking application ready for real-world operation.\n",
    "\n",
    "`základní struktura naší aplikace`:\n",
    "- my_project/\n",
    "    - wsgi.py\n",
    "    - app/\n",
    "        - **Procfile**\n",
    "        - **requirements.txt**\n",
    "        - **.env**\n",
    "        - _ _ init _ _.py\n",
    "        - database.py\n",
    "        - models/\n",
    "            - _ _ init _ _.py\n",
    "            - crewmember.py\n",
    "        - data/\n",
    "            - _ _ init _ _.py\n",
    "            - asteroid.py\n",
    "            - crew.py\n",
    "        - templates/\n",
    "        - static/\n",
    "        - config/\n",
    "        - main/ \n",
    "            - _ _ init _ _.py\n",
    "            - routes.py \n",
    "            - templates/ \n",
    "        - crew/\n",
    "            - _ _ init _ _.py\n",
    "            - routes.py \n",
    "            - forms.py\n",
    "            - templates/\n",
    "        - api/ \n",
    "            - _ _ init _ _.py\n",
    "            - routes.py\n",
    "        - /instance\n",
    "            - my_database.db\n",
    "\n",
    "\n",
    "- The file with our **SQLite DB** is in the default **instance** folder next to our application, which is the **root** folder.\n",
    "\n",
    "\n",
    "1.  **Secure Configuration:** Modify `config.py` and `app/__init__.py` to load sensitive data (`SECRET_KEY`, `DATABASE_URL`, `FLASK_ENV`) from environment variables. Create an `.env` file for local development.\n",
    "\n",
    "2.  **Production Dependencies:** Create the `requirements.txt` and `Procfile` files needed for Gunicorn.\n",
    "\n",
    "3.  **Appearance Improvement:** Integrate **Bootstrap** into the application, modify `base.html`, and try to improve selected elements (e.g., navigation, footer, or page layout) using Bootstrap.\n",
    "\n",
    "4.  **(Bonus) Mission Start:** Deploy the application to a service like **Render** or another hosting provider."
   ]
  },
  {
   "cell_type": "markdown",
   "id": "309da594",
   "metadata": {},
   "source": [
    "### Procfile file\n",
    "- this file has no suffix (e.g. \"file.txt\") - it's name is just \"Procfile\""
   ]
  },
  {
   "cell_type": "raw",
   "id": "6685b037",
   "metadata": {},
   "source": [
    "web: gunicorn wsgi:app"
   ]
  },
  {
   "cell_type": "markdown",
   "id": "eac25324",
   "metadata": {},
   "source": [
    "### requirements.txt file\n",
    "- in terminal use `pip freeze > requirements.txt` to get it"
   ]
  },
  {
   "cell_type": "raw",
   "id": "ecc5a1a4",
   "metadata": {},
   "source": [
    "blinker==1.9.0\n",
    "Bootstrap-Flask==2.5.0\n",
    "click==8.1.8\n",
    "colorama==0.4.6\n",
    "Flask==3.1.0\n",
    "Flask-SQLAlchemy==3.1.1\n",
    "Flask-WTF==1.2.2\n",
    "greenlet==3.2.3\n",
    "itsdangerous==2.2.0\n",
    "Jinja2==3.1.5\n",
    "MarkupSafe==3.0.2\n",
    "python-dotenv==1.1.1\n",
    "SQLAlchemy==2.0.41\n",
    "typing_extensions==4.14.0\n",
    "Werkzeug==3.1.3\n",
    "WTForms==3.2.1"
   ]
  },
  {
   "cell_type": "markdown",
   "id": "dd9eeb6e",
   "metadata": {},
   "source": [
    "### .env file\n",
    "- before publishing on GitHub .env file needs to be placed into .gitignore "
   ]
  },
  {
   "cell_type": "raw",
   "id": "333b1bf3",
   "metadata": {
    "vscode": {
     "languageId": "raw"
    }
   },
   "source": [
    "SECRET_KEY=my_secret_password\n",
    "DATABASE_URL=sqlite:///my_database.db\n",
    "APP_ENV=development"
   ]
  },
  {
   "cell_type": "code",
   "execution_count": null,
   "id": "a0c15db4",
   "metadata": {},
   "outputs": [],
   "source": [
    "# app/config/configuration.py\n",
    "\n",
    "import os # import OS\n",
    "from dotenv import load_dotenv # import load_dotenv\n",
    "\n",
    "load_dotenv()\n",
    "\n",
    "class Config:\n",
    "    \"\"\"\n",
    "    Set Flask config variables\n",
    "    \"\"\"\n",
    "    # General Config\n",
    "    DEBUG = True \n",
    "    STATIC_FOLDER = 'static'\n",
    "    TEMPLATES_FOLDER = 'templates'\n",
    "    SECRET_KEY = os.environ.get(\"SECRET_KEY\") # loads \"SECRET_KEY\" from .env\n",
    "\n",
    "    # Database Config (set up DB connection) - for SQLite\n",
    "    SQLALCHEMY_TRACK_MODIFICATIONS = False # disable warnings in terminal for session changes\n",
    "    SQLALCHEMY_DATABASE_URI = os.environ.get(\"DATABASE_URL\") # loads \"DATABASE_URL\" from .env\n",
    "\n",
    "class ProdConfig(Config):\n",
    "    APP_ENV = 'production' # sets \"APP_ENV\" to \"production\"\n",
    "    DEBUG = False # disables debug mode\n",
    "\n",
    "class DevConfig(Config):\n",
    "    APP_ENV = 'development' # sets \"APP_ENV\" to \"development\"\n",
    "    DEBUG = True # enables debug mode"
   ]
  },
  {
   "cell_type": "code",
   "execution_count": null,
   "id": "13e15572",
   "metadata": {},
   "outputs": [],
   "source": [
    "# app/__init__.py\n",
    "\n",
    "import os # import OS\n",
    "from flask import Flask\n",
    "from dotenv import load_dotenv # imports load_dotenv\n",
    "from .config.configuration import DevConfig, ProdConfig # import configuration\n",
    "from .database import db  # import 'db' object\n",
    "from .data import my_crew # import data\n",
    "from .models import CrewMember  # import table models\n",
    "from .main import main_bp # import blueprint object from 'main'\n",
    "from .crew import crew_bp # import blueprint object from 'crew'\n",
    "from .api import api_bp # import blueprint object from 'api'\n",
    "from flask_bootstrap import Bootstrap5 # import Bootstrap\n",
    "\n",
    "\n",
    "load_dotenv() # loads values from .env file\n",
    "\n",
    "\n",
    "def app_factory():\n",
    "\n",
    "    app = Flask(__name__)\n",
    "\n",
    "    # CONFIGURATION\n",
    "    env = os.environ.get(\"APP_ENV\", \"production\") # gets \"APP_ENV\" from .env, if not defined, default set to \"production\"\n",
    "    if env == \"development\":\n",
    "        app.config.from_object(DevConfig)\n",
    "    else:\n",
    "        app.config.from_object(ProdConfig)\n",
    "\n",
    "    # PLUGIN INITIALIZATION - extensions for \"app\" object\n",
    "    db.init_app(app) # connects \"Flask app\" and \"SQLAlchemy db\"\n",
    "    bs = Bootstrap5(app) # connects \"Flask app\" and \"Bootstrap\"\n",
    "\n",
    "    # REGISTRATION (Blueprints)\n",
    "    app.register_blueprint(main_bp) # register Main BP\n",
    "    app.register_blueprint(crew_bp) # register Crew BP\n",
    "    app.register_blueprint(api_bp, url_prefix=\"/api\") # register API BP, with prefix \"/api\"\n",
    "    \n",
    "    # APP CONTEXT\n",
    "    with app.app_context(): # use \"app_context()\n",
    "        db.create_all() # creates tables (if no tables in DB)\n",
    "        if not CrewMember.query.first(): # populates database (if DB is empty)\n",
    "            for crew_member in my_crew:\n",
    "                    new_crew_member = CrewMember(\n",
    "                    id=crew_member[\"id\"], \n",
    "                    name=crew_member[\"name\"], \n",
    "                    specialization=crew_member[\"specialization\"], \n",
    "                    status=crew_member[\"status\"])\n",
    "            db.session.add(new_crew_member)\n",
    "            db.session.commit()\n",
    "\n",
    "    return app"
   ]
  },
  {
   "cell_type": "markdown",
   "id": "832a447e",
   "metadata": {},
   "source": [
    "## /models"
   ]
  },
  {
   "cell_type": "code",
   "execution_count": null,
   "id": "230b9e19",
   "metadata": {},
   "outputs": [],
   "source": [
    "# app/models/__init__.py\n",
    "\n",
    "from .crewmember import CrewMember"
   ]
  },
  {
   "cell_type": "code",
   "execution_count": null,
   "id": "a99b502c",
   "metadata": {},
   "outputs": [],
   "source": [
    "# app/models/crewmember.py\n",
    "\n",
    "from ..database import db \n",
    "\n",
    "\n",
    "class CrewMember(db.Model):\n",
    "    __tablename__ = \"crew_members\"\n",
    "    id = db.Column(db.Integer, primary_key=True)\n",
    "    name = db.Column(db.String(100), nullable=False)\n",
    "    specialization = db.Column(db.String(100), nullable=False)\n",
    "    status = db.Column(db.String(100), nullable=False)\n",
    "\n",
    "    def __repr__(self):\n",
    "        return f\"<CrewMember {self.name}>\""
   ]
  },
  {
   "cell_type": "markdown",
   "id": "040e9934",
   "metadata": {},
   "source": [
    "## /data"
   ]
  },
  {
   "cell_type": "code",
   "execution_count": null,
   "id": "6ca23a4b",
   "metadata": {},
   "outputs": [],
   "source": [
    "# app/data/__init__.py\n",
    "\n",
    "from .asteroid import my_asteroid\n",
    "from .crew import my_crew"
   ]
  },
  {
   "cell_type": "code",
   "execution_count": null,
   "id": "86cfae6a",
   "metadata": {},
   "outputs": [],
   "source": [
    "# data/asteroid\n",
    "\n",
    "my_asteroid = {\"name\": \"230 Athamantis\",\n",
    "               \"diameter\": \"118±2 km\",\n",
    "               \"mass\": \"(2.3±1.1)*10**18 kg\",\n",
    "               \"density\": \"2.7±1.3 g/cm3\",\n",
    "               \"speed\": \"19.3 km/s\",\n",
    "               \"img\": \"static/img/Athamantis.jpeg\"\n",
    "}"
   ]
  },
  {
   "cell_type": "code",
   "execution_count": null,
   "id": "a94b0d79",
   "metadata": {},
   "outputs": [],
   "source": [
    "# data/crew\n",
    "\n",
    "my_crew = [\n",
    "        {\n",
    "            \"id\": 1,\n",
    "            \"name\": \"Dave Fisher\",\n",
    "            \"specialization\": \"AI Engineer\",\n",
    "            \"status\": \"Active\"\n",
    "        },\n",
    "        {\n",
    "            \"id\": 2,\n",
    "            \"name\": \"Izael Alexander\",\n",
    "            \"specialization\": \"Rocket Scientist\",\n",
    "            \"status\": \"Active\"\n",
    "        },\n",
    "        {\n",
    "            \"id\": 3,\n",
    "            \"name\": \"Tethra Dyagran\",\n",
    "            \"specialization\": \"Roboticist\",\n",
    "            \"status\": \"Active\"\n",
    "        },\n",
    "        {\n",
    "            \"id\": 4,\n",
    "            \"name\": \"Mura Lan\",\n",
    "            \"specialization\": \"Astronavigator\",\n",
    "            \"status\": \"Active\"\n",
    "        }\n",
    "    ]"
   ]
  },
  {
   "cell_type": "markdown",
   "id": "7776c98e",
   "metadata": {},
   "source": [
    "## /main"
   ]
  },
  {
   "cell_type": "code",
   "execution_count": null,
   "id": "03bba1d2",
   "metadata": {},
   "outputs": [],
   "source": [
    "# app/main/__init__.py\n",
    "\n",
    "from flask import Blueprint\n",
    "\n",
    "# Blueprint 'main'\n",
    "main_bp = Blueprint('main', __name__, template_folder='templates')\n",
    "\n",
    "from . import routes # import AFTER Blueprint"
   ]
  },
  {
   "cell_type": "code",
   "execution_count": null,
   "id": "74bb5a35",
   "metadata": {},
   "outputs": [],
   "source": [
    "# app/main/routes.py\n",
    "\n",
    "from flask import Flask, render_template\n",
    "from ..data import my_asteroid\n",
    "from . import main_bp # import blueprint object\n",
    "\n",
    "\n",
    "@main_bp.route(\"/\")\n",
    "def homepage():\n",
    "    print(\"homepage called\")\n",
    "    return render_template(\"homepage.html\")\n",
    "\n",
    "@main_bp.route(\"/mission_briefing\")\n",
    "def mission_briefing():\n",
    "    return render_template(\"mission_briefing.html\")\n",
    "\n",
    "@main_bp.route(\"/target_asteroid\")\n",
    "def target_asteroid():\n",
    "    print(\"target_asteroid called\")\n",
    "    return render_template(\"target_asteroid.html\", my_asteroid=my_asteroid)"
   ]
  },
  {
   "cell_type": "markdown",
   "id": "9b0d6b52",
   "metadata": {},
   "source": [
    "## /crew"
   ]
  },
  {
   "cell_type": "code",
   "execution_count": null,
   "id": "bc4665b2",
   "metadata": {},
   "outputs": [],
   "source": [
    "# app/crew/__init__.py\n",
    "\n",
    "from flask import Blueprint\n",
    "\n",
    "# Blueprint 'main'\n",
    "crew_bp = Blueprint('crew', __name__, template_folder='templates')\n",
    "\n",
    "from . import routes # import AFTER Blueprint"
   ]
  },
  {
   "cell_type": "code",
   "execution_count": null,
   "id": "e127f48e",
   "metadata": {},
   "outputs": [],
   "source": [
    "# app/crew/routes.py\n",
    "\n",
    "from flask import render_template, redirect, url_for\n",
    "from .forms import NewCrewMemberForm\n",
    "from ..models import CrewMember\n",
    "from ..database import db\n",
    "from . import crew_bp # import blueprint object\n",
    "\n",
    "\n",
    "@crew_bp.route(\"/crew_members\")\n",
    "def crew_members():\n",
    "    my_crew = db.session.query(CrewMember).all()\n",
    "    return render_template(\"crew_members.html\", my_crew=my_crew)\n",
    "\n",
    "@crew_bp.route(\"/crew_members/<int:id>\")\n",
    "def crew_members_details(id):\n",
    "    crew_member = db.session.query(CrewMember).get(id)\n",
    "    if crew_member:\n",
    "        return render_template(\"crew_members_details.html\", crew_member=crew_member)\n",
    "    return \"Crew member not found\"\n",
    "    \n",
    "@crew_bp.route(\"/onboarding\", methods=[\"GET\", \"POST\"])\n",
    "def onboarding():\n",
    "    form = NewCrewMemberForm()\n",
    "    if form.validate_on_submit():\n",
    "        db.session.add(CrewMember(\n",
    "            name=form.name.data,\n",
    "            specialization=form.specialization.data,\n",
    "            status=\"Pending..\"\n",
    "        ))\n",
    "        db.session.commit()\n",
    "        return redirect(url_for(\".crew_members\")) # relative BP path\n",
    "    return render_template(\"onboarding.html\", form=form)"
   ]
  },
  {
   "cell_type": "code",
   "execution_count": null,
   "id": "727d3e13",
   "metadata": {},
   "outputs": [],
   "source": [
    "# app/crew/forms.py\n",
    "\n",
    "from flask_wtf import FlaskForm\n",
    "from wtforms import StringField, SubmitField, validators\n",
    "\n",
    "class NewCrewMemberForm(FlaskForm):\n",
    "    name = StringField(label=\"Name\", validators=[validators.DataRequired()])\n",
    "    specialization = StringField(label=\"Specialization\", validators=[validators.DataRequired()])\n",
    "    \n",
    "    submit = SubmitField(label=\"Submit new crew member\")"
   ]
  },
  {
   "cell_type": "markdown",
   "id": "cb7795c3",
   "metadata": {},
   "source": [
    "## /api"
   ]
  },
  {
   "cell_type": "code",
   "execution_count": null,
   "id": "acebcbd1",
   "metadata": {},
   "outputs": [],
   "source": [
    "# app/api/__init__.py\n",
    "\n",
    "from flask import Blueprint\n",
    "\n",
    "# Blueprint 'api'\n",
    "api_bp = Blueprint('api', __name__)\n",
    "\n",
    "from . import routes # import AFTER Blueprint"
   ]
  },
  {
   "cell_type": "code",
   "execution_count": null,
   "id": "160540b5",
   "metadata": {},
   "outputs": [],
   "source": [
    "# app/api/routes.py\n",
    "\n",
    "from flask import Flask, jsonify\n",
    "from ..database import db\n",
    "from ..models import CrewMember\n",
    "from ..data import my_asteroid\n",
    "from . import api_bp # import blueprint object\n",
    "\n",
    "   \n",
    "@api_bp.route(\"crew_members\")\n",
    "def api_crew_members():\n",
    "    all_crew_members = db.session.query(CrewMember).all()\n",
    "    return jsonify(list({\"id\":member.id, \"name\":member.name, \"specialization\":member.specialization, \"status\":member.status} for member in all_crew_members)), 200\n",
    "    \n",
    "@api_bp.route(\"target_asteroid\")\n",
    "def api_target_asteroid():\n",
    "    return jsonify(my_asteroid), 200"
   ]
  },
  {
   "cell_type": "markdown",
   "id": "3e86f1e3",
   "metadata": {},
   "source": [
    "## /app"
   ]
  },
  {
   "cell_type": "code",
   "execution_count": null,
   "id": "0e09085c",
   "metadata": {},
   "outputs": [],
   "source": [
    "# app/database.py\n",
    "\n",
    "from flask_sqlalchemy import SQLAlchemy\n",
    "\n",
    "db = SQLAlchemy()"
   ]
  },
  {
   "cell_type": "markdown",
   "id": "2b5212b7",
   "metadata": {},
   "source": [
    "## /models"
   ]
  },
  {
   "cell_type": "code",
   "execution_count": null,
   "id": "e00a696a",
   "metadata": {},
   "outputs": [],
   "source": [
    "# app/models/__init__.py\n",
    "\n",
    "from .crewmember import CrewMember"
   ]
  },
  {
   "cell_type": "code",
   "execution_count": null,
   "id": "6c502099",
   "metadata": {},
   "outputs": [],
   "source": [
    "# app/models/crewmember.py\n",
    "\n",
    "from ..database import db # Importujeme 'db' objekt\n",
    "\n",
    "\n",
    "class CrewMember(db.Model):\n",
    "    __tablename__ = \"crew_members\"\n",
    "    id = db.Column(db.Integer, primary_key=True)\n",
    "    name = db.Column(db.String(100), nullable=False)\n",
    "    specialization = db.Column(db.String(100), nullable=False)\n",
    "    status = db.Column(db.String(100), nullable=False)\n",
    "\n",
    "    def __repr__(self):\n",
    "        return f\"<CrewMember {self.name}>\""
   ]
  },
  {
   "cell_type": "markdown",
   "id": "5d7e8908",
   "metadata": {},
   "source": [
    "---"
   ]
  },
  {
   "cell_type": "code",
   "execution_count": null,
   "id": "93924a19",
   "metadata": {},
   "outputs": [],
   "source": [
    "# wsgi.py\n",
    "\n",
    "from app import app_factory\n",
    "\n",
    "\n",
    "app = app_factory()\n",
    "\n",
    "if __name__ == \"__main__\":\n",
    "    app.run(host='0.0.0.0')"
   ]
  },
  {
   "cell_type": "markdown",
   "id": "fe31e559",
   "metadata": {},
   "source": [
    "## /templates"
   ]
  },
  {
   "cell_type": "code",
   "execution_count": null,
   "id": "8d94e1db",
   "metadata": {
    "vscode": {
     "languageId": "html"
    }
   },
   "outputs": [],
   "source": [
    "<!-- header.html -->\n",
    "\n",
    "<nav>\n",
    "    <ul>\n",
    "        {# global blueprint 'main' #}\n",
    "        <li><a href=\"{{ url_for('main.homepage') }}\">Home</a></li> \n",
    "        <li><a href=\"{{ url_for('main.mission_briefing') }}\">Our Mission</a></li>\n",
    "        <li><a href=\"{{ url_for('main.target_asteroid') }}\">The Asteroid</a></li>\n",
    "\n",
    "        {# global blueprint 'crew' #}\n",
    "        <li><a href=\"{{ url_for('crew.crew_members') }}\">Our Crew</a></li>\n",
    "        <li><a href=\"{{ url_for('crew.onboarding') }}\">New Recruits Onboarding</a></li>\n",
    "    </ul>\n",
    "</nav>"
   ]
  },
  {
   "cell_type": "code",
   "execution_count": null,
   "id": "14195058",
   "metadata": {
    "vscode": {
     "languageId": "html"
    }
   },
   "outputs": [],
   "source": [
    "<!-- footer.html -->\n",
    " \n",
    "<footer>\n",
    "    <br>\n",
    "    <p>Deep Space Exploration Corp.</p>\n",
    "    <p>All rights reserved</p>\n",
    "</footer>"
   ]
  },
  {
   "cell_type": "code",
   "execution_count": null,
   "id": "89e9b992",
   "metadata": {
    "vscode": {
     "languageId": "html"
    }
   },
   "outputs": [],
   "source": [
    "<!-- base.html -->\n",
    "\n",
    "<!DOCTYPE html>\n",
    "<html lang=\"en\">\n",
    "<head>\n",
    "    <meta charset=\"UTF-8\">\n",
    "    <meta name=\"viewport\" content=\"width=device-width, initial-scale=1.0\">\n",
    "    <title>{% block page_title %} Title {% endblock page_title %}</title> \n",
    "    \n",
    "    {{ bootstrap.load_css() }} <!-- Bootstrap CSS -->\n",
    "</head>\n",
    "\n",
    "<body>\n",
    "    {% include 'header.html' %}\n",
    "    {% block page_content %} Content {% endblock page_content %} \n",
    "    {% include 'footer.html' %} \n",
    "\n",
    "    {{ bootstrap.load_js() }} <!-- Bootstrap JS -->\n",
    "</body>\n",
    "\n",
    "</html>"
   ]
  },
  {
   "cell_type": "markdown",
   "id": "9fdc9569",
   "metadata": {},
   "source": [
    "## /main/templates"
   ]
  },
  {
   "cell_type": "code",
   "execution_count": null,
   "id": "849eec8e",
   "metadata": {
    "vscode": {
     "languageId": "html"
    }
   },
   "outputs": [],
   "source": [
    "<!-- homepage.html -->\n",
    "\n",
    "{% extends \"base.html\" %} \n",
    "\n",
    "{% block page_title %} HomePage {% endblock page_title %}\n",
    "\n",
    "{% block page_content %}\n",
    "    <h1>Deep Space Exploration Corp.</h1>\n",
    "    <p>Welcome to our homepage !</p>\n",
    "    <p>Our goal is to mine asteroids from the solar system.</p>\n",
    "{% endblock page_content %}"
   ]
  },
  {
   "cell_type": "code",
   "execution_count": null,
   "id": "035c53ef",
   "metadata": {
    "vscode": {
     "languageId": "html"
    }
   },
   "outputs": [],
   "source": [
    "<!-- mission_briefing.html -->\n",
    "\n",
    "{% extends \"base.html\" %} \n",
    "\n",
    "{% block page_title %} Mission Debriefing {% endblock page_title %}\n",
    "\n",
    "{% block page_content %}\n",
    "    <h1>Mission</h1>\n",
    "    <p>This is our mission:</p>\n",
    "    <p>get resources from chosen asteroids</p>\n",
    "    <p>make it profitable</p>\n",
    "    <p>expand world's economy</p>\n",
    "{% endblock page_content %}"
   ]
  },
  {
   "cell_type": "code",
   "execution_count": null,
   "id": "90365cc2",
   "metadata": {
    "vscode": {
     "languageId": "html"
    }
   },
   "outputs": [],
   "source": [
    "<!-- target_asteroid.html -->\n",
    "\n",
    "{% extends \"base.html\" %} \n",
    "\n",
    "{% block page_title %} Target Asteroid {% endblock page_title %}\n",
    "\n",
    "{% block page_content %}\n",
    "    <h1>Target asteroid: {{ my_asteroid[\"name\"] }}</h1>\n",
    "    <p>Mean diameter: {{ my_asteroid[\"diameter\"] }}</p>\n",
    "    <p>Mass: {{ my_asteroid[\"mass\"] }}</p>\n",
    "    <p>Mean density: {{ my_asteroid[\"density\"] }}</p>\n",
    "    <p>Average orbital speed: {{ my_asteroid[\"speed\"] }}</p>\n",
    "    <img src=\"{{ my_asteroid['img'] }}\" width=\"800px\"/> \n",
    "{% endblock page_content %}"
   ]
  },
  {
   "cell_type": "markdown",
   "id": "6aa231f2",
   "metadata": {},
   "source": [
    "## /crew/templates"
   ]
  },
  {
   "cell_type": "code",
   "execution_count": null,
   "id": "45e6d7fe",
   "metadata": {
    "vscode": {
     "languageId": "html"
    }
   },
   "outputs": [],
   "source": [
    "<!-- crew_members_details.html -->\n",
    "\n",
    "{% extends \"base.html\" %} \n",
    "\n",
    "{% block page_title %} {{ crew_member[\"name\"] }} {% endblock page_title %}\n",
    "\n",
    "{% block page_content %}\n",
    "    <h1>Crew member {{ crew_member[\"id\"] }}</h1>\n",
    "    <p>Name: {{ crew_member[\"name\"] }}</p>\n",
    "    <p>Specialization: {{ crew_member[\"specialization\"] }}</p>\n",
    "    <p>Status: {{ crew_member[\"status\"] }}</p>\n",
    "{% endblock page_content %}"
   ]
  },
  {
   "cell_type": "code",
   "execution_count": null,
   "id": "35d22837",
   "metadata": {
    "vscode": {
     "languageId": "html"
    }
   },
   "outputs": [],
   "source": [
    "<!-- crew_members.html -->\n",
    "\n",
    "{% extends \"base.html\" %} \n",
    "\n",
    "{% block page_title %} Our Crew {% endblock page_title %}\n",
    "\n",
    "{% block page_content %}\n",
    "    {% for member in my_crew %}\n",
    "\n",
    "        {# relative path - within the BP #}\n",
    "        <p><a href=\"{{ url_for('.crew_members_details', id=member['id']) }}\">{{ member[\"name\"] }}</a></p>\n",
    "        \n",
    "    {% endfor %}\n",
    "{% endblock page_content %}"
   ]
  },
  {
   "cell_type": "code",
   "execution_count": null,
   "id": "25868863",
   "metadata": {
    "vscode": {
     "languageId": "html"
    }
   },
   "outputs": [],
   "source": [
    "<!-- onboarding.html -->\n",
    "\n",
    "{% extends \"base.html\" %} \n",
    "\n",
    "{% block page_title %} Onboarding {% endblock page_title %}\n",
    "\n",
    "{% block page_content %}\n",
    "<form method = \"POST\" action = \"{{ url_for('.onboarding') }}\">  <!-- relative path - within the BP -->\n",
    "    <p>New crew member onboarding form</p>\n",
    "    {{ form.hidden_tag() }} \n",
    "\n",
    "    <p>{{ form.name.label }} {{ form.name(size=30) }}</p>\n",
    "    <p>{{ form.specialization.label }} {{ form.specialization(size=30) }}</p>\n",
    "\n",
    "    <p>{{ form.submit() }}</p>\n",
    "</form>\n",
    "{% endblock page_content %}"
   ]
  },
  {
   "cell_type": "markdown",
   "id": "3411e357",
   "metadata": {},
   "source": [
    "---\n",
    "#### © Jiří Svoboda (George Freedom)\n",
    "- Web: https://GeorgeFreedom.com\n",
    "- LinkedIn: https://www.linkedin.com/in/georgefreedom/\n",
    "- Book me: https://cal.com/georgefreedom"
   ]
  }
 ],
 "metadata": {
  "language_info": {
   "name": "python"
  }
 },
 "nbformat": 4,
 "nbformat_minor": 5
}

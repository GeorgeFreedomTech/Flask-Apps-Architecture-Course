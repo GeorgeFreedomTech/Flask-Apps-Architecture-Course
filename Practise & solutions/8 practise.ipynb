{
 "cells": [
  {
   "cell_type": "markdown",
   "id": "4d0fcb32",
   "metadata": {},
   "source": [
    "### Practise\n",
    "\n",
    "**Connecting a New Module**\n",
    "\n",
    "Our control system, built on the application factory, is ready for expansion. Our task is to create a new, independent module (Blueprint) for geological drone diagnostics and connect it to our main application.\n",
    "\n",
    "**Preparation:**\n",
    "We will use the functional \"Assembly Line\" application from the previous lesson (Lesson 7) - and extend it.\n",
    "\n",
    "**Assignment:**\n",
    "\n",
    "- **\"Assembly Line\" structure:**\n",
    "- processor_project/\n",
    "- wsgi.py\n",
    "- app/\n",
    "    - _ _ init _ _.py\n",
    "    - config.py\n",
    "    - routes.py\n",
    "    - **drone_diagnostics/**\n",
    "        - **_ _ init _ _.py**\n",
    "        - **routes.py**\n",
    "\n",
    "1.  **Create a package for the Blueprint:** inside the `app/` folder, create a `drone_diagnostics/` folder.\n",
    "\n",
    "2.  **Create the Blueprint:** in `app/drone_diagnostics/`, create an `__init__.py` file - here, define a new Blueprint named `'drone'`.\n",
    "\n",
    "3.  **Prepare routes for the Blueprint:** in `app/drone_diagnostics/`, create a `routes.py` file - here, create at least one route specific to drones - for example, `@drone_bp.route('/ping')`, which returns the text `\"Successful connection with drone diagnostics!\"`.\n",
    "\n",
    "4.  **Register the Blueprint:** in the application factory in `app/__init__.py`, import the `drone_bp` blueprint, set its prefix to `url_prefix='/drone'`, and register it on the `app` instance.\n",
    "\n",
    "5.  **Verify functionality:** run the application and verify that the routes work, and that the new route is available at `http://127.0.0.1:5000/drone/ping`."
   ]
  },
  {
   "cell_type": "code",
   "execution_count": null,
   "id": "9faf3df6",
   "metadata": {},
   "outputs": [],
   "source": [
    "# app/config.py\n",
    "\n",
    "SECRET_KEY = 'a-secret-key-for-the-processor'\n",
    "DEBUG = True"
   ]
  },
  {
   "cell_type": "code",
   "execution_count": null,
   "id": "ef00c367",
   "metadata": {},
   "outputs": [],
   "source": [
    "# app/drone_diagnostics/__init__.py\n",
    "\n",
    "from flask import Blueprint\n",
    "\n",
    "\n",
    "drone_bp = Blueprint('drone', __name__)\n",
    "\n",
    "from . import routes"
   ]
  },
  {
   "cell_type": "code",
   "execution_count": null,
   "id": "e5acb0d7",
   "metadata": {},
   "outputs": [],
   "source": [
    "# app/drone_diagnostics/routes.py\n",
    "\n",
    "from . import drone_bp\n",
    "\n",
    "@drone_bp.route('/ping')\n",
    "def ping():\n",
    "    return \"Successfull connection with drone diagnostics!\""
   ]
  },
  {
   "cell_type": "code",
   "execution_count": null,
   "id": "30102271",
   "metadata": {},
   "outputs": [],
   "source": [
    "# app/routes.py\n",
    "\n",
    "def register_routes(app):\n",
    "    @app.route(\"/\")\n",
    "    def index():\n",
    "        return \"<h1>Atmospheric Processor Monitor</h1><p>Status: Online</p>\"\n",
    "\n",
    "    @app.route(\"/data\")\n",
    "    def get_data():\n",
    "        return {\"pressure\": \"102.5 kPa\", \"oxygen_level\": \"20.9%\"}"
   ]
  },
  {
   "cell_type": "code",
   "execution_count": null,
   "id": "a53ef500",
   "metadata": {},
   "outputs": [],
   "source": [
    "# app/__init__.py\n",
    "\n",
    "from flask import Flask\n",
    "from . import config\n",
    "from . import routes\n",
    "from .drone_diagnostics import drone_bp\n",
    "\n",
    "def create_app():\n",
    "    app = Flask(__name__)\n",
    "    app.config.from_object(config)\n",
    "\n",
    "    routes.register_routes(app)\n",
    "    app.register_blueprint(drone_bp, url_prefix='/drone')\n",
    "\n",
    "    return app"
   ]
  },
  {
   "cell_type": "code",
   "execution_count": null,
   "id": "614a3a11",
   "metadata": {},
   "outputs": [],
   "source": [
    "# wsgi.py\n",
    "\n",
    "from app import create_app\n",
    "\n",
    "app = create_app()\n",
    "\n",
    "if __name__ == \"__main__\":\n",
    "    app.run()"
   ]
  },
  {
   "cell_type": "markdown",
   "id": "899bc21c",
   "metadata": {},
   "source": [
    "### **Project (Homework): Extending the Core with Specialized Modules**\n",
    "\n",
    "**Mission:** In the last mission, we successfully rebuilt the core of our system into a robust foundation with an application factory. Now it's time for the next step: all our communication protocols and control panels, which are still in a single `routes.py` file, will be divided into specialized, independent modules (Blueprints).\n",
    "\n",
    "\n",
    "**Target application structure:**\n",
    "- my_project/\n",
    "    - wsgi.py\n",
    "    - app/\n",
    "        - _ _ init _ _.py\n",
    "        - database.py\n",
    "        - models/\n",
    "            - _ _ init _ _.py\n",
    "            - crewmember.py\n",
    "        - data/\n",
    "            - _ _ init _ _.py\n",
    "            - asteroid.py\n",
    "            - crew.py\n",
    "        - templates/\n",
    "        - static/\n",
    "        - config/\n",
    "        - **main/** Blueprint pro globální / společné routy (podbalíček \"main\")\n",
    "            - **_ _ init _ _.py**\n",
    "            - **routes.py** - routy pro hlavní / společné rozhraní\n",
    "            - **templates/** - šablony k routám\n",
    "        - **crew/** Blueprint pro routy s posádkou (podbalíček \"crew\")\n",
    "            - **_ _ init _ _.py**\n",
    "            - **routes.py** - routy pro posádku\n",
    "            - **forms.py** - formuláře\n",
    "            - **templates/** - šablony k routám\n",
    "        - **api/** Blueprint pro API routy (podbalíček \"api\")\n",
    "            - **_ _ init _ _.py**\n",
    "            - **routes.py** - API routy\n",
    "        - /instance\n",
    "            - my_database.db\n",
    "\n",
    "- The file with our **SQLite DB** is in the default **instance** folder next to our application, which is the **root** folder.\n",
    "\n",
    "\n",
    "**1. Division into Specialized Modules (Blueprints):**\n",
    "* **Main Bridge (`main`):** Create the `app/main/` **package** for the Blueprint - move all general routes (`/`, `/mission_briefing`, `/target_asteroid`) and their templates here - from the global `/templates` to the `main` blueprint `/templates`, and perform the corresponding imports into `__init__.py`.\n",
    "* **Crew Management Section (`crew`):** Create the `app/crew/` **package** - move everything related to the crew here: routes (`/crew_members`, `/crew_members/<int:id>`, `/onboarding`), the `NewCrewMemberForm` form, and their templates - from the global `/templates` to the `crew` blueprint `/templates`, and perform the corresponding imports into `__init__.py`.\n",
    "* **Automated Data Channel (`api`):** Create the `app/api/` package - move all your API endpoints here, and perform the corresponding imports into `__init__.py`.\n",
    "\n",
    "**2. Reconfiguring Internal Systems (Fixing Imports):**\n",
    "* By moving files into new packages, their relative paths have changed - we must go through all the files we have moved (`routes.py`, `forms.py`), and **fix the `import` statements** so that they correspond to the new structure.\n",
    "* *Tip: An import that was previously `from .database import db` (from `app/routes.py`) must now, for example, in `app/crew/routes.py`, be updated to `from ..database import db`, because we need to go one level up.*\n",
    "\n",
    "**3. Recalibrating Navigation Links (`url_for`):**\n",
    "* After moving the routes to Blueprints, their internal names (endpoints) have changed (e.g., from `'homepage'` to `'main.homepage'`).\n",
    "* We need to perform a refactoring = go through all our templates and our code and **update all uses of `url_for()`** so that they use the new, full endpoint names.\n",
    "* *Tip: For links *within* a single Blueprint, it is possible to use a relative path with a dot (`.`).*\n",
    "\n",
    "**4. Final Module Integration:**\n",
    "* In the application factory (`app/__init__.py`), import and **register** all three new Blueprints.\n",
    "\n",
    "**5. Systems Check and Functionality Verification:**\n",
    "* Verify that the specific templates in the Blueprints correctly inherit from the shared `base.html` in the main `app/templates/` folder.\n",
    "* Verify that all links and redirects throughout the application still work correctly, even though they are now split between different Blueprints."
   ]
  },
  {
   "cell_type": "code",
   "execution_count": null,
   "id": "759970f5",
   "metadata": {},
   "outputs": [],
   "source": [
    "# app/config/configuration.py\n",
    "\n",
    "class Config:\n",
    "    \"\"\"\n",
    "    Set Flask config variables\n",
    "    \"\"\"\n",
    "    # General Config\n",
    "    DEBUG = True \n",
    "    STATIC_FOLDER = 'static' \n",
    "    TEMPLATES_FOLDER = 'templates' \n",
    "    SECRET_KEY = 'my_secret_something' \n",
    "\n",
    "    # Database Config (set up DB connection) - for SQLite\n",
    "    SQLALCHEMY_DATABASE_URI = 'sqlite:///my_database.db' \n",
    "    SQLALCHEMY_TRACK_MODIFICATIONS = False "
   ]
  },
  {
   "cell_type": "code",
   "execution_count": null,
   "id": "6839f67e",
   "metadata": {},
   "outputs": [],
   "source": [
    "# app/__init__.py\n",
    "\n",
    "from .config.configuration import Config\n",
    "from flask import Flask\n",
    "from .database import db  # import 'db' object\n",
    "from .data import my_crew # import data\n",
    "from .models import CrewMember  # import table models\n",
    "from .main import main_bp # import blueprint object from 'main'\n",
    "from .crew import crew_bp # import blueprint object from 'crew'\n",
    "from .api import api_bp # import blueprint object from 'api'\n",
    "\n",
    "\n",
    "\n",
    "def app_factory():\n",
    "\n",
    "    app = Flask(__name__)\n",
    "\n",
    "    # CONFIGURACION\n",
    "    app.config.from_object(Config) \n",
    "\n",
    "    # PLUGIN INITIALIZATION - extensions for \"app\" object\n",
    "    db.init_app(app) \n",
    "\n",
    "    # REGISTRATION (Blueprints)\n",
    "    app.register_blueprint(main_bp) # register Main BP\n",
    "    app.register_blueprint(crew_bp) # register Crew BP\n",
    "    app.register_blueprint(api_bp, url_prefix=\"/api\") # register API BP, with prefix \"/api\"\n",
    "    \n",
    "    # APP CONTEXT\n",
    "    with app.app_context(): \n",
    "        db.create_all() \n",
    "        if not CrewMember.query.first(): \n",
    "            for crew_member in my_crew:\n",
    "                    new_crew_member = CrewMember(\n",
    "                    id=crew_member[\"id\"], \n",
    "                    name=crew_member[\"name\"], \n",
    "                    specialization=crew_member[\"specialization\"], \n",
    "                    status=crew_member[\"status\"])\n",
    "            db.session.add(new_crew_member)\n",
    "            db.session.commit()\n",
    "\n",
    "    return app"
   ]
  },
  {
   "cell_type": "markdown",
   "id": "5c14f913",
   "metadata": {},
   "source": [
    "## /models"
   ]
  },
  {
   "cell_type": "code",
   "execution_count": null,
   "id": "bf909989",
   "metadata": {},
   "outputs": [],
   "source": [
    "# app/models/__init__.py\n",
    "\n",
    "from .crewmember import CrewMember"
   ]
  },
  {
   "cell_type": "code",
   "execution_count": null,
   "id": "c3eadbdb",
   "metadata": {},
   "outputs": [],
   "source": [
    "# app/models/crewmember.py\n",
    "\n",
    "from ..database import db \n",
    "\n",
    "\n",
    "class CrewMember(db.Model):\n",
    "    __tablename__ = \"crew_members\"\n",
    "    id = db.Column(db.Integer, primary_key=True)\n",
    "    name = db.Column(db.String(100), nullable=False)\n",
    "    specialization = db.Column(db.String(100), nullable=False)\n",
    "    status = db.Column(db.String(100), nullable=False)\n",
    "\n",
    "    def __repr__(self):\n",
    "        return f\"<CrewMember {self.name}>\""
   ]
  },
  {
   "cell_type": "markdown",
   "id": "c90b3b23",
   "metadata": {},
   "source": [
    "## /data"
   ]
  },
  {
   "cell_type": "code",
   "execution_count": null,
   "id": "64d4d834",
   "metadata": {},
   "outputs": [],
   "source": [
    "# app/data/__init__.py\n",
    "\n",
    "from .asteroid import my_asteroid\n",
    "from .crew import my_crew"
   ]
  },
  {
   "cell_type": "code",
   "execution_count": null,
   "id": "0ce79b1c",
   "metadata": {},
   "outputs": [],
   "source": [
    "# data/asteroid\n",
    "\n",
    "my_asteroid = {\"name\": \"230 Athamantis\",\n",
    "               \"diameter\": \"118±2 km\",\n",
    "               \"mass\": \"(2.3±1.1)*10**18 kg\",\n",
    "               \"density\": \"2.7±1.3 g/cm3\",\n",
    "               \"speed\": \"19.3 km/s\",\n",
    "               \"img\": \"static/img/Athamantis.jpeg\"\n",
    "}"
   ]
  },
  {
   "cell_type": "code",
   "execution_count": null,
   "id": "52875ec3",
   "metadata": {},
   "outputs": [],
   "source": [
    "# data/crew\n",
    "\n",
    "my_crew = [\n",
    "        {\n",
    "            \"id\": 1,\n",
    "            \"name\": \"Dave Fisher\",\n",
    "            \"specialization\": \"AI Engineer\",\n",
    "            \"status\": \"Active\"\n",
    "        },\n",
    "        {\n",
    "            \"id\": 2,\n",
    "            \"name\": \"Izael Alexander\",\n",
    "            \"specialization\": \"Rocket Scientist\",\n",
    "            \"status\": \"Active\"\n",
    "        },\n",
    "        {\n",
    "            \"id\": 3,\n",
    "            \"name\": \"Tethra Dyagran\",\n",
    "            \"specialization\": \"Roboticist\",\n",
    "            \"status\": \"Active\"\n",
    "        },\n",
    "        {\n",
    "            \"id\": 4,\n",
    "            \"name\": \"Mura Lan\",\n",
    "            \"specialization\": \"Astronavigator\",\n",
    "            \"status\": \"Active\"\n",
    "        }\n",
    "    ]"
   ]
  },
  {
   "cell_type": "markdown",
   "id": "379d85c7",
   "metadata": {},
   "source": [
    "## /main"
   ]
  },
  {
   "cell_type": "code",
   "execution_count": null,
   "id": "2ed74e35",
   "metadata": {},
   "outputs": [],
   "source": [
    "# app/main/__init__.py\n",
    "\n",
    "from flask import Blueprint\n",
    "\n",
    "# Blueprint 'main'\n",
    "main_bp = Blueprint('main', __name__, template_folder='templates')\n",
    "\n",
    "from . import routes # import AFTER Blueprint"
   ]
  },
  {
   "cell_type": "code",
   "execution_count": null,
   "id": "63a5aef9",
   "metadata": {},
   "outputs": [],
   "source": [
    "# app/main/routes.py\n",
    "\n",
    "from flask import Flask, render_template\n",
    "from ..data import my_asteroid\n",
    "from . import main_bp # import blueprint object\n",
    "\n",
    "\n",
    "@main_bp.route(\"/\")\n",
    "def homepage():\n",
    "    print(\"homepage called\")\n",
    "    return render_template(\"homepage.html\")\n",
    "\n",
    "@main_bp.route(\"/mission_briefing\")\n",
    "def mission_briefing():\n",
    "    return render_template(\"mission_briefing.html\")\n",
    "\n",
    "@main_bp.route(\"/target_asteroid\")\n",
    "def target_asteroid():\n",
    "    print(\"target_asteroid called\")\n",
    "    return render_template(\"target_asteroid.html\", my_asteroid=my_asteroid)"
   ]
  },
  {
   "cell_type": "markdown",
   "id": "70646261",
   "metadata": {},
   "source": [
    "## /crew"
   ]
  },
  {
   "cell_type": "code",
   "execution_count": null,
   "id": "70586766",
   "metadata": {},
   "outputs": [],
   "source": [
    "# app/crew/__init__.py\n",
    "\n",
    "from flask import Blueprint\n",
    "\n",
    "# Blueprint 'main'\n",
    "crew_bp = Blueprint('crew', __name__, template_folder='templates')\n",
    "\n",
    "from . import routes # import AFTER Blueprint"
   ]
  },
  {
   "cell_type": "code",
   "execution_count": null,
   "id": "41204f44",
   "metadata": {},
   "outputs": [],
   "source": [
    "# app/crew/routes.py\n",
    "\n",
    "from flask import render_template, redirect, url_for\n",
    "from .forms import NewCrewMemberForm\n",
    "from ..models import CrewMember\n",
    "from ..database import db\n",
    "from . import crew_bp # import blueprint object\n",
    "\n",
    "\n",
    "@crew_bp.route(\"/crew_members\")\n",
    "def crew_members():\n",
    "    my_crew = db.session.query(CrewMember).all()\n",
    "    return render_template(\"crew_members.html\", my_crew=my_crew)\n",
    "\n",
    "@crew_bp.route(\"/crew_members/<int:id>\")\n",
    "def crew_members_details(id):\n",
    "    crew_member = db.session.query(CrewMember).get(id)\n",
    "    if crew_member:\n",
    "        return render_template(\"crew_members_details.html\", crew_member=crew_member)\n",
    "    return \"Crew member not found\"\n",
    "    \n",
    "@crew_bp.route(\"/onboarding\", methods=[\"GET\", \"POST\"])\n",
    "def onboarding():\n",
    "    form = NewCrewMemberForm()\n",
    "    if form.validate_on_submit():\n",
    "        db.session.add(CrewMember(\n",
    "            name=form.name.data,\n",
    "            specialization=form.specialization.data,\n",
    "            status=\"Pending..\"\n",
    "        ))\n",
    "        db.session.commit()\n",
    "        return redirect(url_for(\".crew_members\")) # relative BP path\n",
    "    return render_template(\"onboarding.html\", form=form)"
   ]
  },
  {
   "cell_type": "code",
   "execution_count": null,
   "id": "df145f41",
   "metadata": {},
   "outputs": [],
   "source": [
    "# app/crew/forms.py\n",
    "\n",
    "from flask_wtf import FlaskForm\n",
    "from wtforms import StringField, SubmitField, validators\n",
    "\n",
    "class NewCrewMemberForm(FlaskForm):\n",
    "    name = StringField(label=\"Name\", validators=[validators.DataRequired()])\n",
    "    specialization = StringField(label=\"Specialization\", validators=[validators.DataRequired()])\n",
    "    \n",
    "    submit = SubmitField(label=\"Submit new crew member\")"
   ]
  },
  {
   "cell_type": "markdown",
   "id": "be86c3e1",
   "metadata": {},
   "source": [
    "## /api"
   ]
  },
  {
   "cell_type": "code",
   "execution_count": null,
   "id": "a15164e1",
   "metadata": {},
   "outputs": [],
   "source": [
    "# app/api/__init__.py\n",
    "\n",
    "from flask import Blueprint\n",
    "\n",
    "# Blueprint 'api'\n",
    "api_bp = Blueprint('api', __name__)\n",
    "\n",
    "from . import routes # import AFTER Blueprint"
   ]
  },
  {
   "cell_type": "code",
   "execution_count": null,
   "id": "edece336",
   "metadata": {},
   "outputs": [],
   "source": [
    "# app/api/routes.py\n",
    "\n",
    "from flask import Flask, jsonify\n",
    "from ..database import db\n",
    "from ..models import CrewMember\n",
    "from ..data import my_asteroid\n",
    "from . import api_bp # import blueprint object\n",
    "\n",
    "   \n",
    "@api_bp.route(\"crew_members\")\n",
    "def api_crew_members():\n",
    "    all_crew_members = db.session.query(CrewMember).all()\n",
    "    return jsonify(list({\"id\":member.id, \"name\":member.name, \"specialization\":member.specialization, \"status\":member.status} for member in all_crew_members)), 200\n",
    "    \n",
    "@api_bp.route(\"target_asteroid\")\n",
    "def api_target_asteroid():\n",
    "    return jsonify(my_asteroid), 200"
   ]
  },
  {
   "cell_type": "markdown",
   "id": "d7eef923",
   "metadata": {},
   "source": [
    "## /app"
   ]
  },
  {
   "cell_type": "code",
   "execution_count": null,
   "id": "cdb51673",
   "metadata": {},
   "outputs": [],
   "source": [
    "# app/database.py\n",
    "\n",
    "from flask_sqlalchemy import SQLAlchemy\n",
    "\n",
    "db = SQLAlchemy()"
   ]
  },
  {
   "cell_type": "markdown",
   "id": "1debf69d",
   "metadata": {},
   "source": [
    "## /models"
   ]
  },
  {
   "cell_type": "code",
   "execution_count": null,
   "id": "0cdca7a7",
   "metadata": {},
   "outputs": [],
   "source": [
    "# app/models/__init__.py\n",
    "\n",
    "from .crewmember import CrewMember"
   ]
  },
  {
   "cell_type": "code",
   "execution_count": null,
   "id": "08fbcd93",
   "metadata": {},
   "outputs": [],
   "source": [
    "# app/models/crewmember.py\n",
    "\n",
    "from ..database import db # Importujeme 'db' objekt\n",
    "\n",
    "\n",
    "class CrewMember(db.Model):\n",
    "    __tablename__ = \"crew_members\"\n",
    "    id = db.Column(db.Integer, primary_key=True)\n",
    "    name = db.Column(db.String(100), nullable=False)\n",
    "    specialization = db.Column(db.String(100), nullable=False)\n",
    "    status = db.Column(db.String(100), nullable=False)\n",
    "\n",
    "    def __repr__(self):\n",
    "        return f\"<CrewMember {self.name}>\""
   ]
  },
  {
   "cell_type": "markdown",
   "id": "441501aa",
   "metadata": {},
   "source": [
    "---"
   ]
  },
  {
   "cell_type": "code",
   "execution_count": null,
   "id": "0a954c79",
   "metadata": {},
   "outputs": [],
   "source": [
    "# wsgi.py\n",
    "\n",
    "from app import app_factory\n",
    "\n",
    "\n",
    "app = app_factory()\n",
    "\n",
    "if __name__ == \"__main__\":\n",
    "    app.run(host='0.0.0.0')"
   ]
  },
  {
   "cell_type": "markdown",
   "id": "712390cb",
   "metadata": {},
   "source": [
    "## /templates"
   ]
  },
  {
   "cell_type": "code",
   "execution_count": null,
   "id": "7a3a6784",
   "metadata": {
    "vscode": {
     "languageId": "html"
    }
   },
   "outputs": [],
   "source": [
    "<!-- header.html -->\n",
    "\n",
    "<nav>\n",
    "    <ul>\n",
    "        {# global blueprint 'main' #}\n",
    "        <li><a href=\"{{ url_for('main.homepage') }}\">Home</a></li> \n",
    "        <li><a href=\"{{ url_for('main.mission_briefing') }}\">Our Mission</a></li>\n",
    "        <li><a href=\"{{ url_for('main.target_asteroid') }}\">The Asteroid</a></li>\n",
    "\n",
    "        {# global blueprint 'crew' #}\n",
    "        <li><a href=\"{{ url_for('crew.crew_members') }}\">Our Crew</a></li>\n",
    "        <li><a href=\"{{ url_for('crew.onboarding') }}\">New Recruits Onboarding</a></li>\n",
    "    </ul>\n",
    "</nav>"
   ]
  },
  {
   "cell_type": "code",
   "execution_count": null,
   "id": "26653e0c",
   "metadata": {
    "vscode": {
     "languageId": "html"
    }
   },
   "outputs": [],
   "source": [
    "<!-- footer.html -->\n",
    " \n",
    "<footer>\n",
    "    <br>\n",
    "    <p>Deep Space Exploration Corp.</p>\n",
    "    <p>All rights reserved</p>\n",
    "</footer>"
   ]
  },
  {
   "cell_type": "code",
   "execution_count": null,
   "id": "caccb0e8",
   "metadata": {
    "vscode": {
     "languageId": "html"
    }
   },
   "outputs": [],
   "source": [
    "<!-- base.html -->\n",
    "\n",
    "<!DOCTYPE html>\n",
    "<html lang=\"en\">\n",
    "<head>\n",
    "    <meta charset=\"UTF-8\">\n",
    "    <meta name=\"viewport\" content=\"width=device-width, initial-scale=1.0\">\n",
    "    <title>{% block page_title %} Title {% endblock page_title %}</title> \n",
    "    \n",
    "</head>\n",
    "\n",
    "<body>\n",
    "    {% include 'header.html' %}\n",
    "    {% block page_content %} Content {% endblock page_content %} \n",
    "    {% include 'footer.html' %} \n",
    "</body>\n",
    "\n",
    "</html>"
   ]
  },
  {
   "cell_type": "markdown",
   "id": "65e1225c",
   "metadata": {},
   "source": [
    "## /main/templates"
   ]
  },
  {
   "cell_type": "code",
   "execution_count": null,
   "id": "6c8f76a8",
   "metadata": {
    "vscode": {
     "languageId": "html"
    }
   },
   "outputs": [],
   "source": [
    "<!-- homepage.html -->\n",
    "\n",
    "{% extends \"base.html\" %} \n",
    "\n",
    "{% block page_title %} HomePage {% endblock page_title %}\n",
    "\n",
    "{% block page_content %}\n",
    "    <h1>Deep Space Exploration Corp.</h1>\n",
    "    <p>Welcome to our homepage !</p>\n",
    "    <p>Our goal is to mine asteroids from the solar system.</p>\n",
    "{% endblock page_content %}"
   ]
  },
  {
   "cell_type": "code",
   "execution_count": null,
   "id": "862679b0",
   "metadata": {
    "vscode": {
     "languageId": "html"
    }
   },
   "outputs": [],
   "source": [
    "<!-- mission_briefing.html -->\n",
    "\n",
    "{% extends \"base.html\" %} \n",
    "\n",
    "{% block page_title %} Mission Debriefing {% endblock page_title %}\n",
    "\n",
    "{% block page_content %}\n",
    "    <h1>Mission</h1>\n",
    "    <p>This is our mission:</p>\n",
    "    <p>get resources from chosen asteroids</p>\n",
    "    <p>make it profitable</p>\n",
    "    <p>expand world's economy</p>\n",
    "{% endblock page_content %}"
   ]
  },
  {
   "cell_type": "code",
   "execution_count": null,
   "id": "046d602c",
   "metadata": {
    "vscode": {
     "languageId": "html"
    }
   },
   "outputs": [],
   "source": [
    "<!-- target_asteroid.html -->\n",
    "\n",
    "{% extends \"base.html\" %} \n",
    "\n",
    "{% block page_title %} Target Asteroid {% endblock page_title %}\n",
    "\n",
    "{% block page_content %}\n",
    "    <h1>Target asteroid: {{ my_asteroid[\"name\"] }}</h1>\n",
    "    <p>Mean diameter: {{ my_asteroid[\"diameter\"] }}</p>\n",
    "    <p>Mass: {{ my_asteroid[\"mass\"] }}</p>\n",
    "    <p>Mean density: {{ my_asteroid[\"density\"] }}</p>\n",
    "    <p>Average orbital speed: {{ my_asteroid[\"speed\"] }}</p>\n",
    "    <img src=\"{{ my_asteroid['img'] }}\" width=\"800px\"/> \n",
    "{% endblock page_content %}"
   ]
  },
  {
   "cell_type": "markdown",
   "id": "1b0d0351",
   "metadata": {},
   "source": [
    "## /crew/templates"
   ]
  },
  {
   "cell_type": "code",
   "execution_count": null,
   "id": "bd4156a1",
   "metadata": {
    "vscode": {
     "languageId": "html"
    }
   },
   "outputs": [],
   "source": [
    "<!-- crew_members_details.html -->\n",
    "\n",
    "{% extends \"base.html\" %} \n",
    "\n",
    "{% block page_title %} {{ crew_member[\"name\"] }} {% endblock page_title %}\n",
    "\n",
    "{% block page_content %}\n",
    "    <h1>Crew member {{ crew_member[\"id\"] }}</h1>\n",
    "    <p>Name: {{ crew_member[\"name\"] }}</p>\n",
    "    <p>Specialization: {{ crew_member[\"specialization\"] }}</p>\n",
    "    <p>Status: {{ crew_member[\"status\"] }}</p>\n",
    "{% endblock page_content %}"
   ]
  },
  {
   "cell_type": "code",
   "execution_count": null,
   "id": "c3d7ccc4",
   "metadata": {
    "vscode": {
     "languageId": "html"
    }
   },
   "outputs": [],
   "source": [
    "<!-- crew_members.html -->\n",
    "\n",
    "{% extends \"base.html\" %} \n",
    "\n",
    "{% block page_title %} Our Crew {% endblock page_title %}\n",
    "\n",
    "{% block page_content %}\n",
    "    {% for member in my_crew %}\n",
    "\n",
    "        {# relative path - within the BP #}\n",
    "        <p><a href=\"{{ url_for('.crew_members_details', id=member['id']) }}\">{{ member[\"name\"] }}</a></p>\n",
    "        \n",
    "    {% endfor %}\n",
    "{% endblock page_content %}"
   ]
  },
  {
   "cell_type": "code",
   "execution_count": null,
   "id": "d5452bc2",
   "metadata": {
    "vscode": {
     "languageId": "html"
    }
   },
   "outputs": [],
   "source": [
    "<!-- onboarding.html -->\n",
    "\n",
    "{% extends \"base.html\" %} \n",
    "\n",
    "{% block page_title %} Onboarding {% endblock page_title %}\n",
    "\n",
    "{% block page_content %}\n",
    "<form method = \"POST\" action = \"{{ url_for('.onboarding') }}\">  <!-- relative path - within the BP -->\n",
    "    <p>New crew member onboarding form</p>\n",
    "    {{ form.hidden_tag() }} \n",
    "\n",
    "    <p>{{ form.name.label }} {{ form.name(size=30) }}</p>\n",
    "    <p>{{ form.specialization.label }} {{ form.specialization(size=30) }}</p>\n",
    "\n",
    "    <p>{{ form.submit() }}</p>\n",
    "</form>\n",
    "{% endblock page_content %}"
   ]
  },
  {
   "cell_type": "markdown",
   "id": "86bd33b8",
   "metadata": {},
   "source": [
    "---\n",
    "#### © Jiří Svoboda (George Freedom)\n",
    "- Web: https://GeorgeFreedom.com\n",
    "- LinkedIn: https://www.linkedin.com/in/georgefreedom/\n",
    "- Book me: https://cal.com/georgefreedom"
   ]
  }
 ],
 "metadata": {
  "language_info": {
   "name": "python"
  }
 },
 "nbformat": 4,
 "nbformat_minor": 5
}

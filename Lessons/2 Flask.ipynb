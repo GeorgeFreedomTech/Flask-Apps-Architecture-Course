{
 "cells": [
  {
   "cell_type": "markdown",
   "id": "ac0d541d",
   "metadata": {},
   "source": [
    "# 2. Flask - Routing & Page Rendering\n",
    "Our Mission Control can currently only send a simple text string. In this mission, we'll upgrade our system with full-fledged information panels (HTML pages) and create a navigation system so the crew can easily move between different systems. We will learn to display complex schematics (`HTML pages`) and work with `static files` on our communication channels (routes).\n",
    "\n",
    "- Displaying HTML documents\n",
    "- `Redirecting` and creating `links` between routes / pages\n",
    "- The functions `render_template()`, `url_for()`, `redirect()`\n",
    "- Static files (CSS, JS, images)"
   ]
  },
  {
   "cell_type": "markdown",
   "id": "d0914b84",
   "metadata": {},
   "source": [
    "## 2.1. Generating HTML Pages and Navigating the App\n",
    "Every proper application needs structure. We will separate the logic in Python from the appearance in HTML.\n",
    "\n",
    "**Basic application structure:**\n",
    "- my_project/\n",
    "  - my_app.py\n",
    "  - **templates/** - folder for HTML templates\n",
    "  - **static/** - folder for CSS, images, etc.\n",
    "\n",
    "We will create the new **templates/** and **static/** folders manually."
   ]
  },
  {
   "cell_type": "code",
   "execution_count": null,
   "id": "2647dd3f",
   "metadata": {},
   "outputs": [],
   "source": [
    "# my_app.py\n",
    "\n",
    "from flask import Flask, render_template, url_for, redirect\n",
    "import random\n",
    "\n",
    "\n",
    "app = Flask(__name__, template_folder='templates')\n",
    "# We set the configuration:\n",
    "# the \"template_folder\" parameter as the folder for HTML files\n",
    "\n",
    "\n",
    "# -------------- APPLICATION INFO --------------\n",
    "print(app.url_map) # Prints all the routes we have defined, as a Map object\n",
    "print(app.config) # Prints the application's configuration\n",
    "\n",
    "\n",
    "# -------------- HOMEPAGE --------------\n",
    "@app.route(\"/\")\n",
    "def index():\n",
    "    return \"My Flask Project\"\n",
    "\n",
    "\n",
    "# -------------- RENDER_TEMPLATE - displaying an HTML file --------------\n",
    "\n",
    "# \"render_template\" displays the selected HTML page at the given URL address / route\n",
    "# The HTML file must be located in the directory set as \"template_folder=\"\n",
    "@app.route(\"/home\")\n",
    "def home_template():\n",
    "    return render_template(\"home.html\") # returns the content of the \"home.html\" file\n",
    "\n",
    "\n",
    "# -------------- URL_FOR - dynamic creation of URL addresses --------------\n",
    "\n",
    "# \"url_for\" dynamically generates the URL address for a given function\n",
    "# This is the best way to create links\n",
    "# If a function has multiple routes, the one defined first is typically used to generate the URL, but this cannot be relied upon.\n",
    "\n",
    "\n",
    "# -------------- REDIRECT - redirecting to our own or other pages --------------\n",
    "\n",
    "# \"redirect\" redirects to another web page\n",
    "\n",
    "@app.route(\"/missions\")\n",
    "def missions():\n",
    "    number = random.randint(1, 100) # Creates a random value from 1 to 100\n",
    "    if number < 50: # Redirects to an \"external\" page\n",
    "        return redirect(\"[https://www.nasa.gov/missions/](https://www.nasa.gov/missions/)\") \n",
    "    else: # Redirects to a URL obtained using \"url_for\"\n",
    "        return redirect(url_for(\"home_template\")) \n",
    "\n",
    "\n",
    "# -------------- STARTING THE APP --------------\n",
    "\n",
    "# The module name __name__ is set to \"__main__\" if run \"directly\" from the file\n",
    "if __name__ == \"__main__\":\n",
    "    app.run(debug=True) # Starts in debugging mode"
   ]
  },
  {
   "cell_type": "markdown",
   "id": "c6b4d985",
   "metadata": {},
   "source": [
    "#### HTML pages are in the **templates/** folder"
   ]
  },
  {
   "cell_type": "code",
   "execution_count": null,
   "id": "c850d434",
   "metadata": {
    "vscode": {
     "languageId": "html"
    }
   },
   "outputs": [],
   "source": [
    "<!-- home.html -->\n",
    "\n",
    "<!DOCTYPE html>\n",
    "<html>\n",
    "    \n",
    "<head>\n",
    "    <meta charset=\"utf-8\" />\n",
    "    <title>Home Base</title>\n",
    "</head>\n",
    "\n",
    "<body>\n",
    "    <h1>Welcome to Home Base!</h1>\n",
    "    <p>All systems are operational.</p>\n",
    "</body>\n",
    "\n",
    "</html>"
   ]
  },
  {
   "cell_type": "markdown",
   "id": "76b36327",
   "metadata": {},
   "source": [
    "### **Practise I**\n",
    "\n",
    "**Navigation Computer Calibration:**\n",
    "\n",
    "- Create an application and three routes: `/`, `/mission_log`, and `/comms`.\n",
    "- For each route, create a simple HTML page in the `templates` folder.\n",
    "- The pages will be generated using `render_template` and will only contain a simple heading, e.g., \"Mission Log\".\n",
    "- Create a `/system_check` route - using the `random` module, randomly select one of the three pages created above and redirect the user to it using `redirect(url_for(...))`.\n",
    "- Create a `/sos` route that performs an external redirect to a page, for example, the [NASA page about asteroids](https://www.nasa.gov/mission_pages/asteroids/main/index.html)."
   ]
  },
  {
   "cell_type": "markdown",
   "id": "cd48dd3a",
   "metadata": {},
   "source": [
    "## 2.2. Basics of Working with Files (Static Files)\n",
    "Static files are CSS styles, JavaScript, images, fonts, documents, etc. These files do not change. We keep them in the **static/** folder."
   ]
  },
  {
   "cell_type": "code",
   "execution_count": null,
   "id": "ca5e39d5",
   "metadata": {},
   "outputs": [],
   "source": [
    "# my_app.py\n",
    "\n",
    "from flask import Flask, send_from_directory, url_for\n",
    "\n",
    "\n",
    "app = Flask(__name__, template_folder='templates', static_folder='static')\n",
    "# We set the configuration:\n",
    "# \"template_folder\" parameter = for HTML files\n",
    "# \"static_folder\" parameter = for static files (js, css, img, etc.) and folders\n",
    "\n",
    "\n",
    "# -------------- DISPLAYING APP INFO --------------\n",
    "print(__name__) # The name of the file from which the application is run\n",
    "print(app.name) # The name of the application (the file name)\n",
    "print(app.url_map) # Prints all the routes we have defined, as a Map object\n",
    "print(app.config) # Prints the application's configuration\n",
    "\n",
    "\n",
    "# -------------- STATIC FILES - using our files (e.g., an image) --------------\n",
    "# I save all my files (images, styles ..) in the folder set for \"static_folder=\"\n",
    "# e.g., static/images, static/css, static/js\n",
    "\n",
    "\n",
    "# -------------- HOMEPAGE --------------\n",
    "@app.route(\"/\")\n",
    "def flask_project():\n",
    "    return \"\"\"\n",
    "    <h1>My Flask Project</h1>\n",
    "    <img src=\"/static/img/flask.jpeg\" width=\"800px\"/> \n",
    "    <!-- When we learn JINJA we will use the \"url_for\" function to get the path to the image -->\n",
    "    \"\"\"\n",
    "\n",
    "\n",
    "# -------------- STATIC FILES - returning page content with files (e.g., PDF) --------------\n",
    "\n",
    "# We can send our files directly using \"send_file()\" or \"send_from_directory\"\n",
    "# \"send_from_directory\" is better as it protects against \"path traversal\" attacks\n",
    "\n",
    "# A custom route can look like this:\n",
    "@app.route('/download_manual')\n",
    "def download_manual():\n",
    "    # The first argument is the DIRECTORY, the second is the FILENAME\n",
    "    return send_from_directory(\n",
    "        'static/pdf_files', \"my_file.pdf\", as_attachment=False\n",
    "    )\n",
    "\n",
    "# as_attachment=True - the file will be downloaded, False - it will be displayed in the browser\n",
    "\n",
    "\n",
    "# -------------- STARTING THE APP --------------\n",
    "\n",
    "if __name__ == \"__main__\":\n",
    "    app.run(debug=True) # Starts in debugging mode"
   ]
  },
  {
   "cell_type": "markdown",
   "id": "acc64638",
   "metadata": {},
   "source": [
    "### **Practise II**\n",
    "\n",
    "**Processing Visual Data and Documentation:**\n",
    "\n",
    "- On the main route (`/`), create a \"Mission Briefing\" page that displays two images:\n",
    "    1. Your mission's logo from the `static/img` folder.\n",
    "    2. An image of the target asteroid from the internet (link to an external URL).\n",
    "\n",
    "- Create a `/download_flight_plan` route that allows the crew to download the flight plan (any `.pdf` file you place in a `static/docs` folder)."
   ]
  },
  {
   "cell_type": "markdown",
   "id": "f4562c57",
   "metadata": {},
   "source": [
    "## **Project (Homework): Information Panel Upgrade**\n",
    "**Mission:** Enhance the information panel from the previous mission with templates and visual data.\n",
    "\n",
    "**Basic application structure:**\n",
    "- my_project/\n",
    "  - my_app.py\n",
    "  - **templates/**\n",
    "  - **static/**\n",
    "\n",
    "1.  **Refactoring:** Move the HTML code from these routes (`/` and `/mission_briefing`) into separate HTML files in the `templates` folder. Modify the functions to use `render_template`.\n",
    "\n",
    "2.  **Panel Expansion:** Create a new route `/target_asteroid` with information (e.g., diameter, mass, speed..) about a selected asteroid - choose your own from this list: https://en.wikipedia.org/wiki/List_of_exceptional_asteroids.\n",
    "    - Put the code into an HTML file in the `templates` folder.\n",
    "    - Add an image of the asteroid (the image should be located in `static/img`)."
   ]
  },
  {
   "cell_type": "markdown",
   "id": "74e101fa",
   "metadata": {},
   "source": [
    "---\n",
    "#### © Jiří Svoboda (George Freedom)\n",
    "- Web: https://GeorgeFreedom.com\n",
    "- LinkedIn: https://www.linkedin.com/in/georgefreedom/\n",
    "- Book me: https://cal.com/georgefreedom"
   ]
  }
 ],
 "metadata": {
  "language_info": {
   "name": "python"
  }
 },
 "nbformat": 4,
 "nbformat_minor": 5
}

{
 "cells": [
  {
   "cell_type": "markdown",
   "id": "c9dced44",
   "metadata": {},
   "source": [
    "# 3. Flask - Generating HTML Pages & Template Creation (Jinja2)\n",
    "We will move from basic reports (static HTML) to a full-fledged graphical interface for our control system. We will learn how to use the Jinja2 templating language to insert `dynamic data` and logic into HTML, and create reusable templates, allowing us to generate complex, full-featured HTML pages instead of returning simple text strings. We will also start loading the configuration for our Mission Control from files.\n",
    "\n",
    "- Configuration from a file\n",
    "- Jinja2 - templating language\n",
    "- `Dynamic generation` of HTML pages\n",
    "- Inserting logic and control structures\n",
    "- Template extension and inheritance\n",
    "- Route organization\n",
    "\n",
    "`Application structure`:\n",
    "- my_project/\n",
    "  - my_app.py\n",
    "  - **routes.py**\n",
    "  - templates/\n",
    "  - static/\n",
    "  - **config/**"
   ]
  },
  {
   "cell_type": "markdown",
   "id": "68ebd0cb",
   "metadata": {},
   "source": [
    "## 3.1. Configuration from a File\n",
    "Every mission requires settings that can be easily changed without interfering with the main systems. We will move our settings from the main program into a separate file.\n",
    "\n",
    "- Organized and clear\n",
    "- Configuration and settings are in `one place`\n",
    "- Suitable for `real projects` and `applications`\n",
    "- P.S. When using a class, we can utilize inheritance to have different configuration settings."
   ]
  },
  {
   "cell_type": "markdown",
   "id": "a3f0b7c8",
   "metadata": {},
   "source": [
    "#### Configuration files in a folder, e.g., **config/**"
   ]
  },
  {
   "cell_type": "code",
   "execution_count": null,
   "id": "5cd197e7",
   "metadata": {},
   "outputs": [],
   "source": [
    "# app_config_constants.py\n",
    "\n",
    "# General Config\n",
    "DEBUG = True # setting for debugging\n",
    "STATIC_FOLDER = 'static' # static files\n",
    "TEMPLATES_FOLDER = 'templates' # HTML templates"
   ]
  },
  {
   "cell_type": "code",
   "execution_count": null,
   "id": "a0c4477c",
   "metadata": {},
   "outputs": [],
   "source": [
    "# app_config_class.py\n",
    "\n",
    "class Config:\n",
    "    \"\"\"\n",
    "    Set Flask config variables\n",
    "    \"\"\"\n",
    "    # General Config\n",
    "    DEBUG = True # setting for debugging\n",
    "    STATIC_FOLDER = 'static' # static files\n",
    "    TEMPLATES_FOLDER = 'templates' # HTML templates"
   ]
  },
  {
   "cell_type": "code",
   "execution_count": null,
   "id": "727b6931",
   "metadata": {},
   "outputs": [],
   "source": [
    "# my_app.py\n",
    "# using constants\n",
    "\n",
    "\n",
    "from flask import Flask\n",
    "\n",
    "\n",
    "app = Flask(__name__)\n",
    "\n",
    "# -------------- CONFIGURATION --------------\n",
    "# from a file using \"constants\"\n",
    "app.config.from_pyfile(\"config/app_config_constants.py\")\n",
    "print(app.config) # prints the application's configuration\n",
    "\n",
    "\n",
    "# -------------- HOMEPAGE --------------\n",
    "\n",
    "@app.route(\"/\")\n",
    "def index():\n",
    "    return f\"\"\"\n",
    "    I know how to configure from constants !\n",
    "    \"\"\"\n",
    "\n",
    "# -------------- STARTING THE APP --------------\n",
    "if __name__ == \"__main__\":\n",
    "    app.run() # we don't need to specify debug=True"
   ]
  },
  {
   "cell_type": "code",
   "execution_count": null,
   "id": "f29ef99f",
   "metadata": {},
   "outputs": [],
   "source": [
    "# my_app.py\n",
    "# using a class\n",
    "\n",
    "\n",
    "from flask import Flask\n",
    "from config.app_config_class import Config # we import the class\n",
    "\n",
    "\n",
    "app = Flask(__name__)\n",
    "\n",
    "# -------------- CONFIGURATION --------------\n",
    "# from a file using a \"class\"\n",
    "app.config.from_object(Config)\n",
    "print(app.config) # prints the application's configuration\n",
    "\n",
    "\n",
    "# -------------- HOMEPAGE --------------\n",
    "\n",
    "@app.route(\"/\")\n",
    "def index():\n",
    "    return f\"\"\"\n",
    "    I know how to configure from class !\n",
    "    \"\"\"\n",
    "\n",
    "# -------------- STARTING THE APP --------------\n",
    "if __name__ == \"__main__\":\n",
    "    app.run() # we don't need to specify debug=True"
   ]
  },
  {
   "cell_type": "markdown",
   "id": "f13b0abd",
   "metadata": {},
   "source": [
    "## 3.2. Jinja2 Template Engine\n",
    "We need to be able to display data in real-time without changing the entire design each time. We will get acquainted with the `Jinja2` templating engine, which will allow us to \"inject\" **dynamic data** from our Python scripts directly into prepared `HTML` schemas."
   ]
  },
  {
   "cell_type": "markdown",
   "id": "02ad7646",
   "metadata": {},
   "source": [
    "### 3.2.1. JINJA2 Control Structures & Logic\n",
    "- Allows inserting basic control structures (conditions, loops) and generated results into an HTML page.\n",
    "\n",
    "### JINJA2\n",
    "1.  **`VARIABLES, FUNCTIONS, VALUES`**\n",
    "    - `{{ ... }}` for Expressions = `{{ parameter/number/result/function() }}`\n",
    "\n",
    "2.  **`CONTROL STRUCTURES`**\n",
    "    - CONDITIONS\n",
    "      - `{% if ... %}`\n",
    "      - `{% elif ... %}`\n",
    "      - `{% else ... %}`\n",
    "      - `{% endif %}`\n",
    "\n",
    "    - FOR loops\n",
    "      - `{% for .. in .. %}` - start of a multi-line block\n",
    "        - `{{ parameter / function result }}` - statement for a single-line output\n",
    "      - `{% endfor %}` - end of a multi-line block"
   ]
  },
  {
   "cell_type": "code",
   "execution_count": null,
   "id": "10a96b25",
   "metadata": {},
   "outputs": [],
   "source": [
    "# my_app.py\n",
    "\n",
    "from flask import Flask, render_template, url_for\n",
    "import time\n",
    "\n",
    "app = Flask(__name__)\n",
    "\n",
    "\n",
    "# -------------- CONFIGURATION --------------\n",
    "# from a file using constants\n",
    "app.config.from_pyfile(\"config/app_config_constants.py\")\n",
    "\n",
    "\n",
    "# -------------- DYNAMIC CONTENT - JINJA TEMPLATE --------------\n",
    "@app.route(\"/probe\") \n",
    "def basic_info():  # I'll create a variable to pass to the HTML page\n",
    "    satellite = {\n",
    "        \"name\": \"Low Earth Orbit Satellite\",\n",
    "        \"factory\": \"Moon LEOSat\",\n",
    "        \"status\": \"Launched\",\n",
    "        \"date\": time.asctime(),\n",
    "        \"equipment\": [\"IFR camera\", \"Gravity sensor\", \"Plasma propeller\", \"Solar panels\", \"Radio\", \"Thrust vectoring\"]\n",
    "    }\n",
    "    \n",
    "    return render_template(\"probe.html\", probe=satellite) \n",
    "    # returns the content of \"probe.html\" and passes the \"probe\" variable with the value of \"satellite\" (a dictionary) into it\n",
    "\n",
    "# url_for('function_name') - for functions without parameters\n",
    "# url_for('function_name', url_parameter_name=variable_value) - with parameters\n",
    "# dynamic creation of URL addresses/links on our website - e.g., for navigation\n",
    "@app.route(\"/url_practise\") \n",
    "def show_url():  \n",
    "    url = url_for(\"basic_info\") # creates a URL link from the route of the \"basic_info\" FUNCTION\n",
    "    return render_template(\"myURL.html\", given_url=url) \n",
    "    # The URL link is passed to the page as a KEYWORD argument \"given_url\"\n",
    "\n",
    "# -------------- STARTING THE APP --------------\n",
    "if __name__ == \"__main__\":\n",
    "    app.run()"
   ]
  },
  {
   "cell_type": "markdown",
   "id": "cdb98e74",
   "metadata": {},
   "source": [
    "#### HTML pages are in the **templates/** folder"
   ]
  },
  {
   "cell_type": "code",
   "execution_count": null,
   "id": "48ba819c",
   "metadata": {
    "vscode": {
     "languageId": "html"
    }
   },
   "outputs": [],
   "source": [
    "<!-- probe.html -->\n",
    "\n",
    "<!DOCTYPE html>\n",
    "<html>\n",
    "\n",
    "<head>\n",
    "    <meta charset=\"utf-8\" />\n",
    "</head>\n",
    "\n",
    "<body>\n",
    "    <h1>Probe {{ probe[\"name\"] }}</h1>\n",
    "\n",
    "    <p><h2>Manufactured by {{ probe[\"factory\"] }}</h2></p>\n",
    "    \n",
    "    <p>Detailed information:</p>\n",
    "    {% for item in probe[\"equipment\"] %}\n",
    "        <p>Installed equipment: {{ item }}</p>\n",
    "    {% endfor %}\n",
    "\n",
    "    <br>\n",
    "\n",
    "    <h3>Launch status:</h3>\n",
    "    {% if probe[\"status\"] == \"Launched\" %}\n",
    "        <p>The {{ probe[\"name\"] }} is already launched !</p>\n",
    "        <p>Probe was launched on: {{ probe[\"date\"] }}</p>\n",
    "    {% elif probe[\"status\"] == \"Canceled\" %}\n",
    "        <p>The {{ probe[\"name\"] }} was canceled</p>\n",
    "    {% else %}\n",
    "        <p>The {{ probe[\"name\"] }} is being prepared for execution</p>\n",
    "    {% endif %}\n",
    "    \n",
    "</body>\n",
    "\n",
    "</html>"
   ]
  },
  {
   "cell_type": "code",
   "execution_count": null,
   "id": "b62160c8",
   "metadata": {
    "vscode": {
     "languageId": "html"
    }
   },
   "outputs": [],
   "source": [
    "<!-- myURL.html -->\n",
    " \n",
    "<!DOCTYPE html>\n",
    "<html>\n",
    "\n",
    "<head>\n",
    "    <meta charset=\"utf-8\" />\n",
    "</head>\n",
    "\n",
    "<body>\n",
    "    <p>This is my Probe page: \"{{ given_url }}\"</p> <!-- get URL from a passed function -->\n",
    "\n",
    "    <p><a href=\"{{ url_for('basic_info') }}\">Go to probe details with url_for</a></p>\n",
    "    <!-- use URL from a passed function to create a link -->\n",
    "\n",
    "    <!-- if the function accepts parameters we have to pass them like this:\n",
    "     {{ url_for('function_name', parameter_name_in_url=value) }} \n",
    "    -->\n",
    "\n",
    "</body>\n",
    "\n",
    "</html>"
   ]
  },
  {
   "cell_type": "markdown",
   "id": "6ba7d1b9",
   "metadata": {},
   "source": [
    "### **Practise I**\n",
    "\n",
    "**Sensor Status Report**\n",
    "\n",
    "We will create an application and a `/sensor_status` route in it. This route will pass a list of several sensors to the `sensors.html` HTML template. Each sensor will be a dictionary with `name` and `status` keys.\n",
    "\n",
    "- In the `sensors.html` template, we will then use JINJA to loop through all the sensors and print their names.\n",
    "- If a sensor has a `status` set to `\"offline\"`, we will display a **\"WARNING: OFFLINE\"** warning next to its name.\n",
    "\n",
    "**Data:**\n",
    "```python\n",
    "sensor_data = [\n",
    "        {'name': 'Core temperature', 'status': 'online'},\n",
    "        {'name': 'Cabin pressure', 'status': 'online'},\n",
    "        {'name': 'Gyroscope', 'status': 'offline'},\n",
    "        {'name': 'Solar panels', 'status': 'online'}\n",
    "    ]\n",
    "```"
   ]
  },
  {
   "cell_type": "markdown",
   "id": "d685be58",
   "metadata": {},
   "source": [
    "### 3.2.2 Template Extension and Inheritance\n",
    "- I will create `smaller elements` (navigation, footer) - e.g., \"header.html\", \"footer.html\"\n",
    "- I will create a `base (parent) template` - typically \"base.html\" or \"layout.html\"\n",
    "  - Into the \"base.html\" template, I will insert these smaller elements - using **{% include 'navbar.html' %}**\n",
    "  - I will also define blocks for descendants - using **{% block content %}\" and \"{% endblock %}\"**\n",
    "- In the inheriting templates, I will insert/overwrite the content of these blocks\n",
    "\n",
    "- In the BASE template, we define **common** elements and a unified look; in the descendants, we insert **individual** content.\n",
    "- If we decide, for example, to change the look, we only need to change the BASE template, and because the descendants inherit from it, the change will automatically apply to them = `I don't have to change each page separately`.\n",
    "\n",
    "### **JINJA 2**\n",
    "- `EXTENSIONS`\n",
    "  - `{% include \"navigation.html\" %}`\n",
    "  - `{% extends \"document.html\" %}`\n",
    "\n",
    "- `BLOCKS`\n",
    "  - `{% block article_content %}`\n",
    "    - .. text and content of the article ..\n",
    "  - `{% endblock article_content %}`\n",
    "\n",
    "- `COMMENTS`\n",
    "- `{# ... #}` comment, will not be displayed"
   ]
  },
  {
   "cell_type": "code",
   "execution_count": null,
   "id": "6192bf07",
   "metadata": {},
   "outputs": [],
   "source": [
    "# my_app.py\n",
    "\n",
    "from flask import Flask, render_template, url_for\n",
    "import datetime\n",
    "\n",
    "\n",
    "app = Flask(__name__)\n",
    "\n",
    "\n",
    "# -------------- CONFIGURATION --------------\n",
    "# from a file - using constants\n",
    "app.config.from_pyfile(\"config/app_config_constants.py\")\n",
    "\n",
    "\n",
    "# -------------- DYNAMIC CONTENT - JINJA TEMPLATE --------------\n",
    "@app.route(\"/mission_details\") \n",
    "def mission():  # I'll create a variable to pass to the HTML page\n",
    "    launch_date = datetime.datetime.now()+datetime.timedelta(days=20)\n",
    "    mission = {\n",
    "        \"mission_name\": \"Dimorphos 2035\",\n",
    "        \"launch_vehicle\": \"Skylla IV\",\n",
    "        \"destination\": \"Dimorphos\",\n",
    "        \"launch_date\": datetime.datetime.strftime(launch_date, \"%d. %m. %Y %H:%M:%S\"),\n",
    "    }\n",
    "    return render_template(\"mission.html\", mission=mission)\n",
    "    # returns the content of \"mission.html\" and passes the \"mission\" variable with the value of \"mission\" (a dictionary) into it\n",
    "    \n",
    "\n",
    "# -------------- STARTING THE APP --------------\n",
    "if __name__ == \"__main__\":\n",
    "    app.run()"
   ]
  },
  {
   "cell_type": "markdown",
   "id": "cac47b74",
   "metadata": {},
   "source": [
    "#### HTML pages are in the **templates/** folder"
   ]
  },
  {
   "cell_type": "code",
   "execution_count": null,
   "id": "a757a6b3",
   "metadata": {
    "vscode": {
     "languageId": "html"
    }
   },
   "outputs": [],
   "source": [
    "<!-- header.html -->\n",
    " \n",
    "<nav>\n",
    "    <ul> <!-- all routes (and functions) have to exist for every page we want to create a link for -->\n",
    "        <li><a href=\"{{ url_for('mission_home') }}\">Mission Home</a></li> \n",
    "        <li><a href=\"{{ url_for('about') }}\">About Team</a></li>\n",
    "        <li><a href=\"{{ url_for('contact') }}\">Contact Us</a></li>\n",
    "    </ul>\n",
    "</nav>"
   ]
  },
  {
   "cell_type": "code",
   "execution_count": null,
   "id": "aa89f33f",
   "metadata": {
    "vscode": {
     "languageId": "html"
    }
   },
   "outputs": [],
   "source": [
    "<!-- footer.html -->\n",
    " \n",
    "<footer>\n",
    "    <br>\n",
    "    <p>Asteroid mining inc.</p>\n",
    "    <p>All rights reserved</p>\n",
    "</footer>"
   ]
  },
  {
   "cell_type": "code",
   "execution_count": null,
   "id": "1ceb4280",
   "metadata": {
    "vscode": {
     "languageId": "html"
    }
   },
   "outputs": [],
   "source": [
    "<!-- base.html -->\n",
    " \n",
    "<!DOCTYPE html>\n",
    "<html lang=\"en\">\n",
    "<head>\n",
    "    <meta charset=\"UTF-8\">\n",
    "    <meta name=\"viewport\" content=\"width=device-width, initial-scale=1.0\">\n",
    "    <title>{% block page_title %} Title {% endblock page_title %}</title> <!-- dynamic content -->\n",
    "    \n",
    "</head>\n",
    "\n",
    "<body>\n",
    "    {% include 'header.html' %} <!-- we include the content of \"header.html\"  -->\n",
    "    {% block page_content %} Content {% endblock page_content %} <!-- dynamic content -->\n",
    "    {% include 'footer.html' %} <!-- we include the content of \"footer.html\" -->\n",
    "</body>\n",
    "\n",
    "</html>"
   ]
  },
  {
   "cell_type": "code",
   "execution_count": null,
   "id": "c624d8d5",
   "metadata": {
    "vscode": {
     "languageId": "html"
    }
   },
   "outputs": [],
   "source": [
    "<!-- mission.html -->\n",
    " \n",
    "{% extends \"base.html\" %} <!-- we inherit content of \"base.html\" -->\n",
    "\n",
    "<!-- add dynamic content into predefined blocks -->\n",
    "{% block page_title %} {{ mission[\"mission_name\"] }} {% endblock page_title %} <!-- add dynamic content - block Title -->\n",
    "\n",
    "{% block page_content %} <!-- add dynamic content - block page_content -->\n",
    "    <p>Brief description</p>\n",
    "    <p>Launch site: {{ mission[\"destination\"] }}</p> <!-- values from the \"mission\" variable -->\n",
    "    <p>Vehicle: {{ mission[\"launch_vehicle\"] }}</p>\n",
    "    <p>Mission details:</p>\n",
    "    <p>Launch date: {{ mission[\"launch_date\"] }}</p>\n",
    "{% endblock page_content %}"
   ]
  },
  {
   "cell_type": "markdown",
   "id": "87d2c5ad",
   "metadata": {},
   "source": [
    "## 3.3. Organizing Routes\n",
    "When the number of navigation routes becomes unmanageable, we will move them to a separate \"protocol\" file, from which our program will simply import them.\n",
    "\n",
    "- In the case of a small number of routes, we can leave them in the same file as the application."
   ]
  },
  {
   "cell_type": "code",
   "execution_count": null,
   "id": "bc08debb",
   "metadata": {},
   "outputs": [],
   "source": [
    "# routes.py\n",
    "\n",
    "def register_routes(app): # function with a parameter (for the future application instance)\n",
    "    @app.route(\"/earth\") \n",
    "    def mission_earth(): # all routes are placed inside the \"wrapper\" function\n",
    "        return \"\"\"\n",
    "            <h1>Mission</h1>\n",
    "            <p>Welcome to Earth !</p>\n",
    "        \"\"\"\n",
    "    \n",
    "    @app.route(\"/mars\")\n",
    "    def mission_mars(): # all routes are placed inside the \"wrapper\" function\n",
    "        return \"\"\"\n",
    "            <h1>Mission</h1>\n",
    "            <p>Welcome to Mars !</p>\n",
    "        \"\"\"\n",
    "    \n",
    "    @app.route(\"/venus\")\n",
    "    def mission_venus(): # all routes are placed inside the \"wrapper\" function\n",
    "        return \"\"\"\n",
    "            <h1>Mission</h1>\n",
    "            <p>Welcome to Venus !</p>\n",
    "        \"\"\""
   ]
  },
  {
   "cell_type": "code",
   "execution_count": null,
   "id": "9ed762c7",
   "metadata": {},
   "outputs": [],
   "source": [
    "# my_app.py\n",
    "\n",
    "from flask import Flask\n",
    "from routes import register_routes\n",
    "\n",
    "\n",
    "app = Flask(__name__)\n",
    "\n",
    "\n",
    "# -------------- CONFIGURATION --------------\n",
    "# from a file - using constants\n",
    "app.config.from_pyfile(\"config/app_config_constants.py\")\n",
    "\n",
    "\n",
    "# -------------- INITIALIZATION --------------\n",
    "register_routes(app) # connecting the \"register_routes\" function with the application (which we pass as a parameter)\n",
    "    \n",
    "\n",
    "# -------------- STARTING THE APP --------------\n",
    "if __name__ == \"__main__\":\n",
    "    app.run()"
   ]
  },
  {
   "cell_type": "markdown",
   "id": "514bce90",
   "metadata": {},
   "source": [
    "### **Practise II**\n",
    "**Standardized Report Format**\n",
    "\n",
    "We will create a standardized format for mission reports using template inheritance.\n",
    "\n",
    "1.  **Create `base_report.html`:** This will be the base (parent) template. It must contain:\n",
    "    * A heading `<h1>Mission Report</h1>`\n",
    "    * A block for content\n",
    "    * A footer `<p>-- End of Transmission --</p>`\n",
    "\n",
    "2.  **Create `daily_log.html`:** This will be the inheriting (child) template.\n",
    "    * At the beginning, it must \"inherit\" everything from `base_report.html`.\n",
    "    * Then, it must overwrite the content of the block with its own text, for example: `<h2>Daily Log: Day 5</h2><p>Solar wind levels are stable.</p>`.\n",
    "\n",
    "3.  **In `my_app.py`**, create a simple route `/daily_log` that only displays the `daily_log.html` template."
   ]
  },
  {
   "cell_type": "markdown",
   "id": "22d60ddf",
   "metadata": {},
   "source": [
    "### **Project (Homework): Central Data Hub Implementation**\n",
    "\n",
    "**Mission:** Enhance the information panel from the previous mission with a unified structure and dynamic display of crew data. The goal is to apply knowledge of the Jinja2 templating system and increase the application's modularity.\n",
    "\n",
    "`Basic application structure`:\n",
    "- my_project/\n",
    "  - my_app.py\n",
    "  - **routes.py**\n",
    "  - templates/\n",
    "  - static/\n",
    "  - **config/**\n",
    "\n",
    "\n",
    "1. **Creating a Standardized Interface (Master Template):**\n",
    "  - Create a base template `base.html` that will define a unified look for the entire information panel.\n",
    "  - Create partial templates `header.html` (for the navigation bar with links) and `footer.html` (for your corporation's copyright footer).\n",
    "  - Using `{% include ... %}`, insert `header.html` and `footer.html` into the base template `base.html`.\n",
    "  - In `base.html`, define at least one block for the main page content, e.g., `{% block content %}`.\n",
    "\n",
    "2.  **Upgrading Existing Panels:**\n",
    "  - Modify all your templates for the routes (`/`, `/mission_briefing`, `/target_asteroid`) so that they inherit from `base.html`.\n",
    "  - Insert the unique content of the templates into the `content` block.\n",
    "\n",
    "3.  **Upgrading Crew Info:**\n",
    "  - From the existing `/crew_members/<int:id>` route, extract the list of dictionaries with crew data and make it a global variable.\n",
    "  - Further modify the `/crew_members/<int:id>` route to generate an HTML page using `render_template()`.\n",
    "  - Then, create a new route and template for `/crew_members`.\n",
    "  - In the template for the `/crew_members` route, use a loop to display the names of all crew members - each name will also be a **link** - use `url_for()`.\n",
    "  - This link (for each crew member) will lead to their detailed profile at `/crew_members/<int:id>`.\n",
    "\n",
    "4.  **Upgrading Asteroid Information:**\n",
    "  - Remove the route and HTML file for `/target_asteroid/<string:asteroid_name>`.\n",
    "  - For the `/target_asteroid/` route, move the data from the HTML file to a global variable in our program and pass it to the HTML.\n",
    "\n",
    "5.  **Optimizing Communication Protocols (Bonus I):**\n",
    "  - Move all your route definitions to a separate file (e.g., `routes.py`) and import them into your main program.\n",
    "\n",
    "6.  **Unified Configuration (Bonus II):**\n",
    "  - Move the configuration from the application to a file in the `config/` folder."
   ]
  },
  {
   "cell_type": "markdown",
   "id": "9461bbe7",
   "metadata": {},
   "source": [
    "---\n",
    "#### © Jiří Svoboda (George Freedom)\n",
    "- Web: https://GeorgeFreedom.com\n",
    "- LinkedIn: https://www.linkedin.com/in/georgefreedom/\n",
    "- Book me: https://cal.com/georgefreedom"
   ]
  }
 ],
 "metadata": {
  "language_info": {
   "name": "python"
  }
 },
 "nbformat": 4,
 "nbformat_minor": 5
}

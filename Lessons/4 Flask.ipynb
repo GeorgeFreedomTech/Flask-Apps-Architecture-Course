{
 "cells": [
  {
   "cell_type": "markdown",
   "id": "0caff632",
   "metadata": {},
   "source": [
    "# 4. Flask - Forms & HTTP Methods\n",
    "So far, our Mission Control has only been broadcasting signals. In this chapter, we will open two-way communication and learn to receive data and commands from our operators in the field. We will explore HTTP protocols and create standardized forms to collect key mission intelligence.\n",
    "\n",
    "- Processing user input\n",
    "- Creating forms\n",
    "- `HTTP methods` **GET** & **POST** and the **request** object\n",
    "- `WTF-Forms` in Flask"
   ]
  },
  {
   "cell_type": "markdown",
   "id": "55de8972",
   "metadata": {},
   "source": [
    "## 4.1. Creating a Form\n",
    "\n",
    "- **form** `HTML form element`\n",
    "  - **action** the \"route\" to which data should be sent after submission\n",
    "  - **method** the way / method by which the data will be sent\n",
    "\n",
    "- **label** `a tag / description for an input field`\n",
    "\n",
    "- **input** `a field for user input`\n",
    "  - **type** the type of data at the input (text, email, password, submit ..)\n",
    "  - **name** the name of the input field / identifier\n",
    "  - **placeholder** pre-filled text (optional)\n",
    "  - **required** marks an input field that must be filled (optional)"
   ]
  },
  {
   "cell_type": "markdown",
   "id": "7486c388",
   "metadata": {},
   "source": [
    "## 4.2. Submitting a Form\n",
    "- After clicking on a field of type `submit`, the data from the form is sent using the selected method (POST/GET) to the target route (URL address) from the \"action\".\n",
    "- The `GET method` sends data in the URL - simple, insecure, with size limits, suitable for search and data display requests.\n",
    "- The `POST method` sends data in the body of the **request** - secure, suitable for sensitive data or a large volume of data."
   ]
  },
  {
   "cell_type": "code",
   "execution_count": null,
   "id": "f1aa128f",
   "metadata": {
    "vscode": {
     "languageId": "html"
    }
   },
   "outputs": [],
   "source": [
    "<!-- stnadard HTML form -->\n",
    "\n",
    "<form action=\"/login\" method=\"POST\">\n",
    "    <label>Name:</label>\n",
    "    <input type=\"text\" name=\"username\" placeholder=\"Username\" required>\n",
    "    <label>Password:</label>\n",
    "    <input type=\"password\" name=\"password\" placeholder=\"Password\" required>\n",
    "    <input type=\"submit\" value=\"OK\">\n",
    "</form>"
   ]
  },
  {
   "cell_type": "markdown",
   "id": "f3f1db60",
   "metadata": {},
   "source": [
    "## 4.3. Receiving & Using the Form\n",
    "- In the target route, we `allow the given method (GET / POST)` to receive data sent from the form.\n",
    "- We can then get the specific data from the form (and, for example, assign it to variables and use it).\n",
    "- `request.form.get(\"username\")` - gets data from the field **name=\"username\"** sent via the **POST** method.\n",
    "- `request.args.get(\"username\")` - gets data from the field **name=\"username\"** sent via the **GET** method."
   ]
  },
  {
   "cell_type": "code",
   "execution_count": null,
   "id": "d4cf14e9",
   "metadata": {},
   "outputs": [],
   "source": [
    "from flask import Flask, request\n",
    "# we import the \"request\" object\n",
    "\n",
    "\n",
    "app = Flask(__name__)\n",
    "\n",
    "\n",
    "# -------------- CONFIGURATION --------------\n",
    "# from a file using constants\n",
    "app.config.from_pyfile(\"config/app_config_constants.py\")\n",
    "\n",
    "\n",
    "# -------------- HOMEPAGE - FORM --------------\n",
    "\n",
    "@app.route(\"/form\")\n",
    "def form():\n",
    "    return f\"\"\"\n",
    "    <form action=\"/login\" method=\"POST\">\n",
    "        <label>Your Name:</label>\n",
    "        <input type=\"text\" name=\"username\" placeholder=\"Username\" required>\n",
    "        <label>Your Password:</label>\n",
    "        <input type=\"password\" name=\"password\" placeholder=\"Password\" required>\n",
    "        <input type=\"submit\" value=\"OK\">\n",
    "    </form>\n",
    "    \"\"\"\n",
    "\n",
    "# -------------- LOGIN --------------\n",
    "\n",
    "@app.route(\"/login\", methods=[\"POST\"]) # we allow the POST method for this route\n",
    "def login():\n",
    "    # getting data sent from the form via the POST method\n",
    "    username = request.form.get(\"username\")\n",
    "    password = request.form.get(\"password\")\n",
    "\n",
    "    # getting data sent from the form via the GET method\n",
    "    # username = request.args.get(\"username\") \n",
    "    # password = request.args.get(\"password\")\n",
    "    return f\"Hello, {username} you set your password to {password}!\"\n",
    "\n",
    "\n",
    "# -------------- STARTING THE APP --------------\n",
    "if __name__ == \"__main__\":\n",
    "    app.run()"
   ]
  },
  {
   "cell_type": "markdown",
   "id": "d6a131bd",
   "metadata": {},
   "source": [
    "## 4.4. WTF-Forms\n",
    "Sending data over an open channel is risky and unreliable. That's why we will now deploy Flask-WTF, a robust extension that functions as an advanced encryption and validation protocol. This system will not only allow us to securely receive data but also to automatically check its integrity and correctness.\n",
    "\n",
    "- `Flask-WTF` is an extension for creating, processing, and validating forms.\n",
    "- Installation - `pip install flask-wtf`\n",
    "- We will modify our application's configuration file - adding: **`SECRET_KEY = 'my_secret_something'`**\n",
    "- We will create a new file for **forms** - e.g., `forms.py`\n",
    "- We will pass an instance of the form into the rendered HTML page in our route.\n",
    "\n",
    "`Application structure`:\n",
    "- my_project/\n",
    "  - my_app.py\n",
    "  - **forms.py**\n",
    "  - templates/\n",
    "  - static/\n",
    "  - config/"
   ]
  },
  {
   "cell_type": "markdown",
   "id": "14a6b061",
   "metadata": {},
   "source": [
    "#### Configuration files in a folder, e.g., **config/**"
   ]
  },
  {
   "cell_type": "code",
   "execution_count": null,
   "id": "bfac218e",
   "metadata": {},
   "outputs": [],
   "source": [
    "# app_config_class.py\n",
    "\n",
    "class Config:\n",
    "    \"\"\"\n",
    "    Set Flask config variables\n",
    "    \"\"\"\n",
    "    # General Config\n",
    "    DEBUG = True\n",
    "    STATIC_FOLDER = 'static'\n",
    "    TEMPLATES_FOLDER = 'templates'\n",
    "    SECRET_KEY = 'my_secret_something' # setting the \"secret key\""
   ]
  },
  {
   "cell_type": "code",
   "execution_count": null,
   "id": "7991d0bb",
   "metadata": {},
   "outputs": [],
   "source": [
    "# forms.py\n",
    "\n",
    "from flask_wtf import FlaskForm\n",
    "from wtforms import StringField, PasswordField, SubmitField\n",
    "from wtforms.validators import DataRequired, Length\n",
    "\n",
    "# We create our form and add validators as needed\n",
    "# We create the individual fields as variables of the \"MyForm\" class, which inherits from \"FlaskForm\"\n",
    "# Multiple validators can be used at the same time\n",
    "\n",
    "class MyForm(FlaskForm):\n",
    "    username = StringField(label=\"New User\", validators=[DataRequired()])\n",
    "    email = StringField(label=\"Email\", validators=[DataRequired()])\n",
    "    password = PasswordField(label=\"Password\", validators=[DataRequired(), \n",
    "        Length(min=6, max=20, message=\"Password is too short\")])\n",
    "    submit = SubmitField(label=\"OK\")"
   ]
  },
  {
   "cell_type": "code",
   "execution_count": null,
   "id": "54a223b7",
   "metadata": {},
   "outputs": [],
   "source": [
    "# my_app.py\n",
    "\n",
    "from config.app_config_class import Config\n",
    "from flask import Flask, render_template, request # we import the \"request\" object\n",
    "from forms import MyForm # we import our form class\n",
    "\n",
    "\n",
    "app = Flask(__name__)\n",
    "\n",
    "# -------------- CONFIGURATION --------------\n",
    "# from a file using a class\n",
    "app.config.from_object(Config) # with \"SECRET_KEY\" set\n",
    "\"\"\"\n",
    "Setting SECRET_KEY automatically enables CSRF (Cross-Site Request Forgery) protection\n",
    "= checks where (i.e., who) is sending the form with data - using the user's session\n",
    "\n",
    "If we want to disable CSRF protection - for study/testing purposes - otherwise, we leave it on:\n",
    "app.config['WTF_CSRF_ENABLED'] = False\n",
    "\"\"\"\n",
    "\n",
    "\n",
    "# -------------- FORM --------------\n",
    "# Principle of using the form:\n",
    "# using the \"request\" object's capabilities\n",
    "@app.route(\"/register\", methods=[\"GET\", \"POST\"]) # route accepts GET and POST methods\n",
    "def register():\n",
    "    form = MyForm() # we create an instance of our form class \n",
    "    if request.method == \"POST\": # if the form is submitted via the POST method\n",
    "                                 # = without validation, without checking for empty fields\n",
    "        return f\"{request.form.get('username')} is successfully Registered!\"\n",
    "    return render_template(\"register.html\", form=form)\n",
    "\n",
    "\n",
    "# form with validation and CSRF protection\n",
    "# using the \"WTF object's\" capabilities\n",
    "@app.route(\"/upgrade_register\", methods=[\"GET\", \"POST\"]) # route accepts GET and POST methods\n",
    "def upgrade_register():\n",
    "    form = MyForm() # we create an instance of our form class \n",
    "    if form.validate_on_submit(): # validation and check for form submission via POST method\n",
    "                                  # we get data from the WTF \"form\" object (here \"form.username.data\")\n",
    "        return f\"{form.username.data} is successfully registered in Upgraded version!\"\n",
    "    return render_template(\"upgrade_register.html\", form=form)\n",
    "\n",
    "\n",
    "# -------------- STARTING THE APP --------------\n",
    "if __name__ == \"__main__\":\n",
    "    app.run()"
   ]
  },
  {
   "cell_type": "markdown",
   "id": "ca65c7cd",
   "metadata": {},
   "source": [
    "#### HTML pages are in the **templates/** folder"
   ]
  },
  {
   "cell_type": "code",
   "execution_count": null,
   "id": "a98f46e4",
   "metadata": {
    "vscode": {
     "languageId": "html"
    }
   },
   "outputs": [],
   "source": [
    "<!-- register.html -->\n",
    "\n",
    "<form method = \"POST\" action = \"{{ url_for('register') }}\">\n",
    "    <p>Standard register form</p>\n",
    "    <p>{{ form.username.label }} {{ form.username(size=30) }}</p>\n",
    "    <p>{{ form.email.label }} {{ form.email(size=30) }}</p>\n",
    "    <p>{{ form.password.label }} {{ form.password(size=20) }}</p>\n",
    "    <p>{{ form.submit() }}</p>\n",
    "</form>"
   ]
  },
  {
   "cell_type": "code",
   "execution_count": null,
   "id": "ce6fe982",
   "metadata": {
    "vscode": {
     "languageId": "html"
    }
   },
   "outputs": [],
   "source": [
    "<!-- upgrade_register.html -->\n",
    "\n",
    "<form method = \"POST\" action = \"{{ url_for('upgrade_register') }}\">\n",
    "    <p>Upgrade register form</p>\n",
    "    {{ form.hidden_tag() }} <!-- here is where CSFR  token is placed automatically by Flask-WTF -->\n",
    "    <!-- the token is used to validate the form  (validate_on_submit) -->\n",
    "\n",
    "    <p>{{ form.username.label }} {{ form.username(size=30) }}</p>\n",
    "    <p>{{ form.email.label }} {{ form.email(size=30) }}</p>\n",
    "    <p>{{ form.password.label }} {{ form.password(size=20) }}</p>\n",
    "\n",
    "    <p>{{ form.submit() }}</p>\n",
    "</form>"
   ]
  },
  {
   "cell_type": "markdown",
   "id": "82dfc9ed",
   "metadata": {},
   "source": [
    "### **Practise I**\n",
    "\n",
    "**1. Sending a Command to a Mining Drone**\n",
    "\n",
    "Create a simple form (using WTF-Forms) to send a text command to an autonomous drone.\n",
    "\n",
    "1.  **Create the form** in `forms.py` named `DroneCommandForm`. It will contain:\n",
    "    * `drone_id` (a `StringField`, required, for the drone's identification, e.g., \"DR-7\")\n",
    "    * `command` (a `StringField`, required, for the command itself, e.g., \"SCAN_SECTOR_GAMMA\")\n",
    "    * `submit` (a submit button)\n",
    "\n",
    "2.  **Create a route** `/send_command` that will display an HTML page (e.g., `drone_command.html`) with our form and will handle both methods (`GET` and `POST`).\n",
    "\n",
    "3.  After a successful submission (`validate_on_submit`), the form will return a simple confirmation message, for example:\n",
    "    `f\"Command '{form.command.data}' has been sent to drone '{form.drone_id.data}'.\"`"
   ]
  },
  {
   "cell_type": "markdown",
   "id": "dfd0229b",
   "metadata": {},
   "source": [
    "### **Practise II**\n",
    "\n",
    "**2. Energy Shield Calibration**\n",
    "\n",
    "Create an interface to change the power level of the station's energy shield.\n",
    "\n",
    "**Data:**\n",
    "At the beginning of your file, create a simple dictionary that represents the current shield settings.\n",
    "```python\n",
    "SHIELD_SETTINGS = {'power_level': 50, 'frequency': 75.5}\n",
    "```\n",
    "\n",
    "1.  **Create a form** `ShieldForm` with one field:\n",
    "    * `new_power_level` (an `IntegerField`, required)\n",
    "    * `submit` (a submit button)\n",
    "\n",
    "2.  **Create a route** `/shield_calibration` (`GET` and `POST`).\n",
    "    * On a `GET` request, it will display a template (e.g., `shield_calibration.html`) that shows the **current** `power_level` from the `SHIELD_SETTINGS` dictionary and also displays the form for changing it.\n",
    "    * On a `POST` request (`validate_on_submit`):\n",
    "        * It updates the `'power_level'` value in the `SHIELD_SETTINGS` dictionary to the value from the form.\n",
    "        * It **redirects** back to the same page (`/shield_calibration`), so we can verify that the power level value has actually changed."
   ]
  },
  {
   "cell_type": "markdown",
   "id": "0847f85f",
   "metadata": {},
   "source": [
    "### **Project (Homework): Crew Member Recruitment**\n",
    "\n",
    "**Mission:** As the mission demands grow, new specialists need to be brought on board. Our task is to create an **onboarding form** for Mission Control and connect it to our application.\n",
    "\n",
    "`Basic application structure`:\n",
    "- my_project/\n",
    "  - my_app.py\n",
    "  - routes.py\n",
    "  - **forms.py**\n",
    "  - templates/\n",
    "  - static/\n",
    "  - config/\n",
    "\n",
    "1.  **New Form:**\n",
    "    - Create a new file `forms.py` and in it, create a class, e.g., `NewCrewMemberForm`, which will contain fields for entering a new crew member (i.e., `pilot_name`, `specialization`, etc.).\n",
    "\n",
    "2.  **Route for the Form:**\n",
    "    - Create a new route `/onboarding` that will accept `GET` and `POST` requests and will display and process this recruitment form.\n",
    "\n",
    "3.  **Logic Upgrade:**\n",
    "    - After a successful form submission (`validate_on_submit`), take the data and **add a new member** to our crew.\n",
    "    - Arrange for them to automatically get an `id` that follows on from the `id` of the last added member (if the last record has an `id` value of \"4\", the next record gets \"5\", and the next \"6\" ..) and for the `status` to be set to `pending`.\n",
    "\n",
    "4.  **Navigation Upgrade:**\n",
    "    - Add the `/onboarding` route to the navigation menu.\n",
    "\n",
    "5.  **Output Check:**\n",
    "    - After adding a new member, **redirect** the applicant from the `/onboarding` route to the `/crew_members` page and check the updated crew list."
   ]
  },
  {
   "cell_type": "markdown",
   "id": "dfc9f3ea",
   "metadata": {},
   "source": [
    "---\n",
    "#### © Jiří Svoboda (George Freedom)\n",
    "- Web: https://GeorgeFreedom.com\n",
    "- LinkedIn: https://www.linkedin.com/in/georgefreedom/\n",
    "- Book me: https://cal.com/georgefreedom"
   ]
  }
 ],
 "metadata": {
  "language_info": {
   "name": "python"
  }
 },
 "nbformat": 4,
 "nbformat_minor": 5
}
